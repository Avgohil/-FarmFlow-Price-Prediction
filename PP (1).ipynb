{
  "cells": [
    {
      "cell_type": "code",
      "execution_count": 1,
      "metadata": {
        "colab": {
          "base_uri": "https://localhost:8080/"
        },
        "id": "9vTccoica773",
        "outputId": "2301e068-73cd-4919-c863-74a2e1e1713b"
      },
      "outputs": [
        {
          "output_type": "stream",
          "name": "stdout",
          "text": [
            "All libraries imported successfully!\n"
          ]
        }
      ],
      "source": [
        "\n",
        "import pandas as pd\n",
        "import numpy as np\n",
        "import matplotlib.pyplot as plt\n",
        "import seaborn as sns\n",
        "from sklearn.model_selection import train_test_split\n",
        "from sklearn.preprocessing import StandardScaler, LabelEncoder\n",
        "from sklearn.ensemble import RandomForestRegressor\n",
        "from sklearn.metrics import mean_absolute_error, mean_squared_error, r2_score\n",
        "\n",
        "\n",
        "print(\"All libraries imported successfully!\")\n"
      ]
    },
    {
      "cell_type": "code",
      "execution_count": 2,
      "metadata": {
        "id": "Jm8xl_DYbAET"
      },
      "outputs": [],
      "source": [
        "df = pd.read_csv('/content/FarmFlow_Data.csv', dtype={'grade': str})"
      ]
    },
    {
      "cell_type": "code",
      "source": [
        "df.head()"
      ],
      "metadata": {
        "colab": {
          "base_uri": "https://localhost:8080/",
          "height": 348
        },
        "id": "HEQgf_ikkJ0-",
        "outputId": "5058390c-16e5-4e83-b9d4-a248b7ff68ea"
      },
      "execution_count": 3,
      "outputs": [
        {
          "output_type": "execute_result",
          "data": {
            "text/plain": [
              "         id state_id      state_name  district_id  district_name  market_id  \\\n",
              "0  44111143       AP  Andhra Pradesh           17        Kurnool        387   \n",
              "1  44111144       AP  Andhra Pradesh           23  West Godavari       1018   \n",
              "2  44119078       AP  Andhra Pradesh           13        Chittor        382   \n",
              "3  44119336       TL       Telangana            2      Hyderabad       1119   \n",
              "4  44119337       TL       Telangana            2      Hyderabad       2046   \n",
              "\n",
              "    market_name  census_state_id census_state_name  census_district_id  \\\n",
              "0     Allagadda               28    ANDHRA PRADESH                 552   \n",
              "1      Palakole               28    ANDHRA PRADESH                 546   \n",
              "2     Palamaner               28    ANDHRA PRADESH                 554   \n",
              "3  Gudimalkapur               28    ANDHRA PRADESH                 536   \n",
              "4    Bowenpally               28    ANDHRA PRADESH                 536   \n",
              "\n",
              "  census_district_name  commodity_id commodity_name  \\\n",
              "0              Kurnool             3           Rice   \n",
              "1        West Godavari             3           Rice   \n",
              "2             Chittoor            87   Green Chilli   \n",
              "3            Hyderabad            87   Green Chilli   \n",
              "4            Hyderabad            87   Green Chilli   \n",
              "\n",
              "                     variety grade  min_price  max_price  modal_price  \\\n",
              "0                       Sona   NaN     3100.0     3300.0       3150.0   \n",
              "1  Sona Mansoori Non Basmati   NaN     4200.0     4250.0       4200.0   \n",
              "2               Green Chilly   NaN     1500.0     2500.0       2000.0   \n",
              "3               Green Chilly   NaN     1200.0     2500.0       1800.0   \n",
              "4               Green Chilly   NaN      500.0     2500.0       2000.0   \n",
              "\n",
              "         date  \n",
              "0  2019-01-01  \n",
              "1  2019-01-01  \n",
              "2  2019-01-01  \n",
              "3  2019-01-01  \n",
              "4  2019-01-01  "
            ],
            "text/html": [
              "\n",
              "  <div id=\"df-458fa1d5-733d-40f1-9b01-ca20bf60ea63\" class=\"colab-df-container\">\n",
              "    <div>\n",
              "<style scoped>\n",
              "    .dataframe tbody tr th:only-of-type {\n",
              "        vertical-align: middle;\n",
              "    }\n",
              "\n",
              "    .dataframe tbody tr th {\n",
              "        vertical-align: top;\n",
              "    }\n",
              "\n",
              "    .dataframe thead th {\n",
              "        text-align: right;\n",
              "    }\n",
              "</style>\n",
              "<table border=\"1\" class=\"dataframe\">\n",
              "  <thead>\n",
              "    <tr style=\"text-align: right;\">\n",
              "      <th></th>\n",
              "      <th>id</th>\n",
              "      <th>state_id</th>\n",
              "      <th>state_name</th>\n",
              "      <th>district_id</th>\n",
              "      <th>district_name</th>\n",
              "      <th>market_id</th>\n",
              "      <th>market_name</th>\n",
              "      <th>census_state_id</th>\n",
              "      <th>census_state_name</th>\n",
              "      <th>census_district_id</th>\n",
              "      <th>census_district_name</th>\n",
              "      <th>commodity_id</th>\n",
              "      <th>commodity_name</th>\n",
              "      <th>variety</th>\n",
              "      <th>grade</th>\n",
              "      <th>min_price</th>\n",
              "      <th>max_price</th>\n",
              "      <th>modal_price</th>\n",
              "      <th>date</th>\n",
              "    </tr>\n",
              "  </thead>\n",
              "  <tbody>\n",
              "    <tr>\n",
              "      <th>0</th>\n",
              "      <td>44111143</td>\n",
              "      <td>AP</td>\n",
              "      <td>Andhra Pradesh</td>\n",
              "      <td>17</td>\n",
              "      <td>Kurnool</td>\n",
              "      <td>387</td>\n",
              "      <td>Allagadda</td>\n",
              "      <td>28</td>\n",
              "      <td>ANDHRA PRADESH</td>\n",
              "      <td>552</td>\n",
              "      <td>Kurnool</td>\n",
              "      <td>3</td>\n",
              "      <td>Rice</td>\n",
              "      <td>Sona</td>\n",
              "      <td>NaN</td>\n",
              "      <td>3100.0</td>\n",
              "      <td>3300.0</td>\n",
              "      <td>3150.0</td>\n",
              "      <td>2019-01-01</td>\n",
              "    </tr>\n",
              "    <tr>\n",
              "      <th>1</th>\n",
              "      <td>44111144</td>\n",
              "      <td>AP</td>\n",
              "      <td>Andhra Pradesh</td>\n",
              "      <td>23</td>\n",
              "      <td>West Godavari</td>\n",
              "      <td>1018</td>\n",
              "      <td>Palakole</td>\n",
              "      <td>28</td>\n",
              "      <td>ANDHRA PRADESH</td>\n",
              "      <td>546</td>\n",
              "      <td>West Godavari</td>\n",
              "      <td>3</td>\n",
              "      <td>Rice</td>\n",
              "      <td>Sona Mansoori Non Basmati</td>\n",
              "      <td>NaN</td>\n",
              "      <td>4200.0</td>\n",
              "      <td>4250.0</td>\n",
              "      <td>4200.0</td>\n",
              "      <td>2019-01-01</td>\n",
              "    </tr>\n",
              "    <tr>\n",
              "      <th>2</th>\n",
              "      <td>44119078</td>\n",
              "      <td>AP</td>\n",
              "      <td>Andhra Pradesh</td>\n",
              "      <td>13</td>\n",
              "      <td>Chittor</td>\n",
              "      <td>382</td>\n",
              "      <td>Palamaner</td>\n",
              "      <td>28</td>\n",
              "      <td>ANDHRA PRADESH</td>\n",
              "      <td>554</td>\n",
              "      <td>Chittoor</td>\n",
              "      <td>87</td>\n",
              "      <td>Green Chilli</td>\n",
              "      <td>Green Chilly</td>\n",
              "      <td>NaN</td>\n",
              "      <td>1500.0</td>\n",
              "      <td>2500.0</td>\n",
              "      <td>2000.0</td>\n",
              "      <td>2019-01-01</td>\n",
              "    </tr>\n",
              "    <tr>\n",
              "      <th>3</th>\n",
              "      <td>44119336</td>\n",
              "      <td>TL</td>\n",
              "      <td>Telangana</td>\n",
              "      <td>2</td>\n",
              "      <td>Hyderabad</td>\n",
              "      <td>1119</td>\n",
              "      <td>Gudimalkapur</td>\n",
              "      <td>28</td>\n",
              "      <td>ANDHRA PRADESH</td>\n",
              "      <td>536</td>\n",
              "      <td>Hyderabad</td>\n",
              "      <td>87</td>\n",
              "      <td>Green Chilli</td>\n",
              "      <td>Green Chilly</td>\n",
              "      <td>NaN</td>\n",
              "      <td>1200.0</td>\n",
              "      <td>2500.0</td>\n",
              "      <td>1800.0</td>\n",
              "      <td>2019-01-01</td>\n",
              "    </tr>\n",
              "    <tr>\n",
              "      <th>4</th>\n",
              "      <td>44119337</td>\n",
              "      <td>TL</td>\n",
              "      <td>Telangana</td>\n",
              "      <td>2</td>\n",
              "      <td>Hyderabad</td>\n",
              "      <td>2046</td>\n",
              "      <td>Bowenpally</td>\n",
              "      <td>28</td>\n",
              "      <td>ANDHRA PRADESH</td>\n",
              "      <td>536</td>\n",
              "      <td>Hyderabad</td>\n",
              "      <td>87</td>\n",
              "      <td>Green Chilli</td>\n",
              "      <td>Green Chilly</td>\n",
              "      <td>NaN</td>\n",
              "      <td>500.0</td>\n",
              "      <td>2500.0</td>\n",
              "      <td>2000.0</td>\n",
              "      <td>2019-01-01</td>\n",
              "    </tr>\n",
              "  </tbody>\n",
              "</table>\n",
              "</div>\n",
              "    <div class=\"colab-df-buttons\">\n",
              "\n",
              "  <div class=\"colab-df-container\">\n",
              "    <button class=\"colab-df-convert\" onclick=\"convertToInteractive('df-458fa1d5-733d-40f1-9b01-ca20bf60ea63')\"\n",
              "            title=\"Convert this dataframe to an interactive table.\"\n",
              "            style=\"display:none;\">\n",
              "\n",
              "  <svg xmlns=\"http://www.w3.org/2000/svg\" height=\"24px\" viewBox=\"0 -960 960 960\">\n",
              "    <path d=\"M120-120v-720h720v720H120Zm60-500h600v-160H180v160Zm220 220h160v-160H400v160Zm0 220h160v-160H400v160ZM180-400h160v-160H180v160Zm440 0h160v-160H620v160ZM180-180h160v-160H180v160Zm440 0h160v-160H620v160Z\"/>\n",
              "  </svg>\n",
              "    </button>\n",
              "\n",
              "  <style>\n",
              "    .colab-df-container {\n",
              "      display:flex;\n",
              "      gap: 12px;\n",
              "    }\n",
              "\n",
              "    .colab-df-convert {\n",
              "      background-color: #E8F0FE;\n",
              "      border: none;\n",
              "      border-radius: 50%;\n",
              "      cursor: pointer;\n",
              "      display: none;\n",
              "      fill: #1967D2;\n",
              "      height: 32px;\n",
              "      padding: 0 0 0 0;\n",
              "      width: 32px;\n",
              "    }\n",
              "\n",
              "    .colab-df-convert:hover {\n",
              "      background-color: #E2EBFA;\n",
              "      box-shadow: 0px 1px 2px rgba(60, 64, 67, 0.3), 0px 1px 3px 1px rgba(60, 64, 67, 0.15);\n",
              "      fill: #174EA6;\n",
              "    }\n",
              "\n",
              "    .colab-df-buttons div {\n",
              "      margin-bottom: 4px;\n",
              "    }\n",
              "\n",
              "    [theme=dark] .colab-df-convert {\n",
              "      background-color: #3B4455;\n",
              "      fill: #D2E3FC;\n",
              "    }\n",
              "\n",
              "    [theme=dark] .colab-df-convert:hover {\n",
              "      background-color: #434B5C;\n",
              "      box-shadow: 0px 1px 3px 1px rgba(0, 0, 0, 0.15);\n",
              "      filter: drop-shadow(0px 1px 2px rgba(0, 0, 0, 0.3));\n",
              "      fill: #FFFFFF;\n",
              "    }\n",
              "  </style>\n",
              "\n",
              "    <script>\n",
              "      const buttonEl =\n",
              "        document.querySelector('#df-458fa1d5-733d-40f1-9b01-ca20bf60ea63 button.colab-df-convert');\n",
              "      buttonEl.style.display =\n",
              "        google.colab.kernel.accessAllowed ? 'block' : 'none';\n",
              "\n",
              "      async function convertToInteractive(key) {\n",
              "        const element = document.querySelector('#df-458fa1d5-733d-40f1-9b01-ca20bf60ea63');\n",
              "        const dataTable =\n",
              "          await google.colab.kernel.invokeFunction('convertToInteractive',\n",
              "                                                    [key], {});\n",
              "        if (!dataTable) return;\n",
              "\n",
              "        const docLinkHtml = 'Like what you see? Visit the ' +\n",
              "          '<a target=\"_blank\" href=https://colab.research.google.com/notebooks/data_table.ipynb>data table notebook</a>'\n",
              "          + ' to learn more about interactive tables.';\n",
              "        element.innerHTML = '';\n",
              "        dataTable['output_type'] = 'display_data';\n",
              "        await google.colab.output.renderOutput(dataTable, element);\n",
              "        const docLink = document.createElement('div');\n",
              "        docLink.innerHTML = docLinkHtml;\n",
              "        element.appendChild(docLink);\n",
              "      }\n",
              "    </script>\n",
              "  </div>\n",
              "\n",
              "\n",
              "<div id=\"df-82917e03-99dd-469e-8c5f-c2386d65bb87\">\n",
              "  <button class=\"colab-df-quickchart\" onclick=\"quickchart('df-82917e03-99dd-469e-8c5f-c2386d65bb87')\"\n",
              "            title=\"Suggest charts\"\n",
              "            style=\"display:none;\">\n",
              "\n",
              "<svg xmlns=\"http://www.w3.org/2000/svg\" height=\"24px\"viewBox=\"0 0 24 24\"\n",
              "     width=\"24px\">\n",
              "    <g>\n",
              "        <path d=\"M19 3H5c-1.1 0-2 .9-2 2v14c0 1.1.9 2 2 2h14c1.1 0 2-.9 2-2V5c0-1.1-.9-2-2-2zM9 17H7v-7h2v7zm4 0h-2V7h2v10zm4 0h-2v-4h2v4z\"/>\n",
              "    </g>\n",
              "</svg>\n",
              "  </button>\n",
              "\n",
              "<style>\n",
              "  .colab-df-quickchart {\n",
              "      --bg-color: #E8F0FE;\n",
              "      --fill-color: #1967D2;\n",
              "      --hover-bg-color: #E2EBFA;\n",
              "      --hover-fill-color: #174EA6;\n",
              "      --disabled-fill-color: #AAA;\n",
              "      --disabled-bg-color: #DDD;\n",
              "  }\n",
              "\n",
              "  [theme=dark] .colab-df-quickchart {\n",
              "      --bg-color: #3B4455;\n",
              "      --fill-color: #D2E3FC;\n",
              "      --hover-bg-color: #434B5C;\n",
              "      --hover-fill-color: #FFFFFF;\n",
              "      --disabled-bg-color: #3B4455;\n",
              "      --disabled-fill-color: #666;\n",
              "  }\n",
              "\n",
              "  .colab-df-quickchart {\n",
              "    background-color: var(--bg-color);\n",
              "    border: none;\n",
              "    border-radius: 50%;\n",
              "    cursor: pointer;\n",
              "    display: none;\n",
              "    fill: var(--fill-color);\n",
              "    height: 32px;\n",
              "    padding: 0;\n",
              "    width: 32px;\n",
              "  }\n",
              "\n",
              "  .colab-df-quickchart:hover {\n",
              "    background-color: var(--hover-bg-color);\n",
              "    box-shadow: 0 1px 2px rgba(60, 64, 67, 0.3), 0 1px 3px 1px rgba(60, 64, 67, 0.15);\n",
              "    fill: var(--button-hover-fill-color);\n",
              "  }\n",
              "\n",
              "  .colab-df-quickchart-complete:disabled,\n",
              "  .colab-df-quickchart-complete:disabled:hover {\n",
              "    background-color: var(--disabled-bg-color);\n",
              "    fill: var(--disabled-fill-color);\n",
              "    box-shadow: none;\n",
              "  }\n",
              "\n",
              "  .colab-df-spinner {\n",
              "    border: 2px solid var(--fill-color);\n",
              "    border-color: transparent;\n",
              "    border-bottom-color: var(--fill-color);\n",
              "    animation:\n",
              "      spin 1s steps(1) infinite;\n",
              "  }\n",
              "\n",
              "  @keyframes spin {\n",
              "    0% {\n",
              "      border-color: transparent;\n",
              "      border-bottom-color: var(--fill-color);\n",
              "      border-left-color: var(--fill-color);\n",
              "    }\n",
              "    20% {\n",
              "      border-color: transparent;\n",
              "      border-left-color: var(--fill-color);\n",
              "      border-top-color: var(--fill-color);\n",
              "    }\n",
              "    30% {\n",
              "      border-color: transparent;\n",
              "      border-left-color: var(--fill-color);\n",
              "      border-top-color: var(--fill-color);\n",
              "      border-right-color: var(--fill-color);\n",
              "    }\n",
              "    40% {\n",
              "      border-color: transparent;\n",
              "      border-right-color: var(--fill-color);\n",
              "      border-top-color: var(--fill-color);\n",
              "    }\n",
              "    60% {\n",
              "      border-color: transparent;\n",
              "      border-right-color: var(--fill-color);\n",
              "    }\n",
              "    80% {\n",
              "      border-color: transparent;\n",
              "      border-right-color: var(--fill-color);\n",
              "      border-bottom-color: var(--fill-color);\n",
              "    }\n",
              "    90% {\n",
              "      border-color: transparent;\n",
              "      border-bottom-color: var(--fill-color);\n",
              "    }\n",
              "  }\n",
              "</style>\n",
              "\n",
              "  <script>\n",
              "    async function quickchart(key) {\n",
              "      const quickchartButtonEl =\n",
              "        document.querySelector('#' + key + ' button');\n",
              "      quickchartButtonEl.disabled = true;  // To prevent multiple clicks.\n",
              "      quickchartButtonEl.classList.add('colab-df-spinner');\n",
              "      try {\n",
              "        const charts = await google.colab.kernel.invokeFunction(\n",
              "            'suggestCharts', [key], {});\n",
              "      } catch (error) {\n",
              "        console.error('Error during call to suggestCharts:', error);\n",
              "      }\n",
              "      quickchartButtonEl.classList.remove('colab-df-spinner');\n",
              "      quickchartButtonEl.classList.add('colab-df-quickchart-complete');\n",
              "    }\n",
              "    (() => {\n",
              "      let quickchartButtonEl =\n",
              "        document.querySelector('#df-82917e03-99dd-469e-8c5f-c2386d65bb87 button');\n",
              "      quickchartButtonEl.style.display =\n",
              "        google.colab.kernel.accessAllowed ? 'block' : 'none';\n",
              "    })();\n",
              "  </script>\n",
              "</div>\n",
              "\n",
              "    </div>\n",
              "  </div>\n"
            ],
            "application/vnd.google.colaboratory.intrinsic+json": {
              "type": "dataframe",
              "variable_name": "df"
            }
          },
          "metadata": {},
          "execution_count": 3
        }
      ]
    },
    {
      "cell_type": "code",
      "source": [
        "df.tail()"
      ],
      "metadata": {
        "colab": {
          "base_uri": "https://localhost:8080/",
          "height": 296
        },
        "id": "Pol1Q5avkMJW",
        "outputId": "e985f145-3831-4e65-e377-91cbdcceb19d"
      },
      "execution_count": 4,
      "outputs": [
        {
          "output_type": "execute_result",
          "data": {
            "text/plain": [
              "              id state_id   state_name  district_id district_name  market_id  \\\n",
              "694603  64459506       MH  Maharashtra            1    Ahmednagar       2475   \n",
              "694604  64459507       MH  Maharashtra            2         Akola        154   \n",
              "694605  64459508       MH  Maharashtra            4      Buldhana        599   \n",
              "694606  64459509       MH  Maharashtra            5         Dhule        157   \n",
              "694607  64459510       MH  Maharashtra            5         Dhule       1436   \n",
              "\n",
              "            market_name  census_state_id census_state_name  \\\n",
              "694603  Rahuri(Vambori)               27       MAHARASHTRA   \n",
              "694604            Akola               27       MAHARASHTRA   \n",
              "694605         Malkapur               27       MAHARASHTRA   \n",
              "694606            Dhule               27       MAHARASHTRA   \n",
              "694607            Sakri               27       MAHARASHTRA   \n",
              "\n",
              "        census_district_id census_district_name  commodity_id commodity_name  \\\n",
              "694603                 522           Ahmadnagar            23          Onion   \n",
              "694604                 501                Akola            23          Onion   \n",
              "694605                 500              Buldana            23          Onion   \n",
              "694606                 498                Dhule            23          Onion   \n",
              "694607                 498                Dhule            23          Onion   \n",
              "\n",
              "       variety grade  min_price  max_price  modal_price        date  \n",
              "694603   Other   NaN      300.0     3600.0       2700.0  2023-11-23  \n",
              "694604   Other   NaN     3000.0     4000.0       3500.0  2023-11-23  \n",
              "694605   Local   NaN     2405.0     3500.0       3111.0  2023-11-23  \n",
              "694606     Red   NaN      400.0     3500.0       2500.0  2023-11-23  \n",
              "694607     Red   NaN     1550.0        3.0          NaN         NaN  "
            ],
            "text/html": [
              "\n",
              "  <div id=\"df-743a1c88-6a13-49b8-a066-67594f885194\" class=\"colab-df-container\">\n",
              "    <div>\n",
              "<style scoped>\n",
              "    .dataframe tbody tr th:only-of-type {\n",
              "        vertical-align: middle;\n",
              "    }\n",
              "\n",
              "    .dataframe tbody tr th {\n",
              "        vertical-align: top;\n",
              "    }\n",
              "\n",
              "    .dataframe thead th {\n",
              "        text-align: right;\n",
              "    }\n",
              "</style>\n",
              "<table border=\"1\" class=\"dataframe\">\n",
              "  <thead>\n",
              "    <tr style=\"text-align: right;\">\n",
              "      <th></th>\n",
              "      <th>id</th>\n",
              "      <th>state_id</th>\n",
              "      <th>state_name</th>\n",
              "      <th>district_id</th>\n",
              "      <th>district_name</th>\n",
              "      <th>market_id</th>\n",
              "      <th>market_name</th>\n",
              "      <th>census_state_id</th>\n",
              "      <th>census_state_name</th>\n",
              "      <th>census_district_id</th>\n",
              "      <th>census_district_name</th>\n",
              "      <th>commodity_id</th>\n",
              "      <th>commodity_name</th>\n",
              "      <th>variety</th>\n",
              "      <th>grade</th>\n",
              "      <th>min_price</th>\n",
              "      <th>max_price</th>\n",
              "      <th>modal_price</th>\n",
              "      <th>date</th>\n",
              "    </tr>\n",
              "  </thead>\n",
              "  <tbody>\n",
              "    <tr>\n",
              "      <th>694603</th>\n",
              "      <td>64459506</td>\n",
              "      <td>MH</td>\n",
              "      <td>Maharashtra</td>\n",
              "      <td>1</td>\n",
              "      <td>Ahmednagar</td>\n",
              "      <td>2475</td>\n",
              "      <td>Rahuri(Vambori)</td>\n",
              "      <td>27</td>\n",
              "      <td>MAHARASHTRA</td>\n",
              "      <td>522</td>\n",
              "      <td>Ahmadnagar</td>\n",
              "      <td>23</td>\n",
              "      <td>Onion</td>\n",
              "      <td>Other</td>\n",
              "      <td>NaN</td>\n",
              "      <td>300.0</td>\n",
              "      <td>3600.0</td>\n",
              "      <td>2700.0</td>\n",
              "      <td>2023-11-23</td>\n",
              "    </tr>\n",
              "    <tr>\n",
              "      <th>694604</th>\n",
              "      <td>64459507</td>\n",
              "      <td>MH</td>\n",
              "      <td>Maharashtra</td>\n",
              "      <td>2</td>\n",
              "      <td>Akola</td>\n",
              "      <td>154</td>\n",
              "      <td>Akola</td>\n",
              "      <td>27</td>\n",
              "      <td>MAHARASHTRA</td>\n",
              "      <td>501</td>\n",
              "      <td>Akola</td>\n",
              "      <td>23</td>\n",
              "      <td>Onion</td>\n",
              "      <td>Other</td>\n",
              "      <td>NaN</td>\n",
              "      <td>3000.0</td>\n",
              "      <td>4000.0</td>\n",
              "      <td>3500.0</td>\n",
              "      <td>2023-11-23</td>\n",
              "    </tr>\n",
              "    <tr>\n",
              "      <th>694605</th>\n",
              "      <td>64459508</td>\n",
              "      <td>MH</td>\n",
              "      <td>Maharashtra</td>\n",
              "      <td>4</td>\n",
              "      <td>Buldhana</td>\n",
              "      <td>599</td>\n",
              "      <td>Malkapur</td>\n",
              "      <td>27</td>\n",
              "      <td>MAHARASHTRA</td>\n",
              "      <td>500</td>\n",
              "      <td>Buldana</td>\n",
              "      <td>23</td>\n",
              "      <td>Onion</td>\n",
              "      <td>Local</td>\n",
              "      <td>NaN</td>\n",
              "      <td>2405.0</td>\n",
              "      <td>3500.0</td>\n",
              "      <td>3111.0</td>\n",
              "      <td>2023-11-23</td>\n",
              "    </tr>\n",
              "    <tr>\n",
              "      <th>694606</th>\n",
              "      <td>64459509</td>\n",
              "      <td>MH</td>\n",
              "      <td>Maharashtra</td>\n",
              "      <td>5</td>\n",
              "      <td>Dhule</td>\n",
              "      <td>157</td>\n",
              "      <td>Dhule</td>\n",
              "      <td>27</td>\n",
              "      <td>MAHARASHTRA</td>\n",
              "      <td>498</td>\n",
              "      <td>Dhule</td>\n",
              "      <td>23</td>\n",
              "      <td>Onion</td>\n",
              "      <td>Red</td>\n",
              "      <td>NaN</td>\n",
              "      <td>400.0</td>\n",
              "      <td>3500.0</td>\n",
              "      <td>2500.0</td>\n",
              "      <td>2023-11-23</td>\n",
              "    </tr>\n",
              "    <tr>\n",
              "      <th>694607</th>\n",
              "      <td>64459510</td>\n",
              "      <td>MH</td>\n",
              "      <td>Maharashtra</td>\n",
              "      <td>5</td>\n",
              "      <td>Dhule</td>\n",
              "      <td>1436</td>\n",
              "      <td>Sakri</td>\n",
              "      <td>27</td>\n",
              "      <td>MAHARASHTRA</td>\n",
              "      <td>498</td>\n",
              "      <td>Dhule</td>\n",
              "      <td>23</td>\n",
              "      <td>Onion</td>\n",
              "      <td>Red</td>\n",
              "      <td>NaN</td>\n",
              "      <td>1550.0</td>\n",
              "      <td>3.0</td>\n",
              "      <td>NaN</td>\n",
              "      <td>NaN</td>\n",
              "    </tr>\n",
              "  </tbody>\n",
              "</table>\n",
              "</div>\n",
              "    <div class=\"colab-df-buttons\">\n",
              "\n",
              "  <div class=\"colab-df-container\">\n",
              "    <button class=\"colab-df-convert\" onclick=\"convertToInteractive('df-743a1c88-6a13-49b8-a066-67594f885194')\"\n",
              "            title=\"Convert this dataframe to an interactive table.\"\n",
              "            style=\"display:none;\">\n",
              "\n",
              "  <svg xmlns=\"http://www.w3.org/2000/svg\" height=\"24px\" viewBox=\"0 -960 960 960\">\n",
              "    <path d=\"M120-120v-720h720v720H120Zm60-500h600v-160H180v160Zm220 220h160v-160H400v160Zm0 220h160v-160H400v160ZM180-400h160v-160H180v160Zm440 0h160v-160H620v160ZM180-180h160v-160H180v160Zm440 0h160v-160H620v160Z\"/>\n",
              "  </svg>\n",
              "    </button>\n",
              "\n",
              "  <style>\n",
              "    .colab-df-container {\n",
              "      display:flex;\n",
              "      gap: 12px;\n",
              "    }\n",
              "\n",
              "    .colab-df-convert {\n",
              "      background-color: #E8F0FE;\n",
              "      border: none;\n",
              "      border-radius: 50%;\n",
              "      cursor: pointer;\n",
              "      display: none;\n",
              "      fill: #1967D2;\n",
              "      height: 32px;\n",
              "      padding: 0 0 0 0;\n",
              "      width: 32px;\n",
              "    }\n",
              "\n",
              "    .colab-df-convert:hover {\n",
              "      background-color: #E2EBFA;\n",
              "      box-shadow: 0px 1px 2px rgba(60, 64, 67, 0.3), 0px 1px 3px 1px rgba(60, 64, 67, 0.15);\n",
              "      fill: #174EA6;\n",
              "    }\n",
              "\n",
              "    .colab-df-buttons div {\n",
              "      margin-bottom: 4px;\n",
              "    }\n",
              "\n",
              "    [theme=dark] .colab-df-convert {\n",
              "      background-color: #3B4455;\n",
              "      fill: #D2E3FC;\n",
              "    }\n",
              "\n",
              "    [theme=dark] .colab-df-convert:hover {\n",
              "      background-color: #434B5C;\n",
              "      box-shadow: 0px 1px 3px 1px rgba(0, 0, 0, 0.15);\n",
              "      filter: drop-shadow(0px 1px 2px rgba(0, 0, 0, 0.3));\n",
              "      fill: #FFFFFF;\n",
              "    }\n",
              "  </style>\n",
              "\n",
              "    <script>\n",
              "      const buttonEl =\n",
              "        document.querySelector('#df-743a1c88-6a13-49b8-a066-67594f885194 button.colab-df-convert');\n",
              "      buttonEl.style.display =\n",
              "        google.colab.kernel.accessAllowed ? 'block' : 'none';\n",
              "\n",
              "      async function convertToInteractive(key) {\n",
              "        const element = document.querySelector('#df-743a1c88-6a13-49b8-a066-67594f885194');\n",
              "        const dataTable =\n",
              "          await google.colab.kernel.invokeFunction('convertToInteractive',\n",
              "                                                    [key], {});\n",
              "        if (!dataTable) return;\n",
              "\n",
              "        const docLinkHtml = 'Like what you see? Visit the ' +\n",
              "          '<a target=\"_blank\" href=https://colab.research.google.com/notebooks/data_table.ipynb>data table notebook</a>'\n",
              "          + ' to learn more about interactive tables.';\n",
              "        element.innerHTML = '';\n",
              "        dataTable['output_type'] = 'display_data';\n",
              "        await google.colab.output.renderOutput(dataTable, element);\n",
              "        const docLink = document.createElement('div');\n",
              "        docLink.innerHTML = docLinkHtml;\n",
              "        element.appendChild(docLink);\n",
              "      }\n",
              "    </script>\n",
              "  </div>\n",
              "\n",
              "\n",
              "<div id=\"df-d76c895f-9ec0-47f2-903f-f64a028b3f43\">\n",
              "  <button class=\"colab-df-quickchart\" onclick=\"quickchart('df-d76c895f-9ec0-47f2-903f-f64a028b3f43')\"\n",
              "            title=\"Suggest charts\"\n",
              "            style=\"display:none;\">\n",
              "\n",
              "<svg xmlns=\"http://www.w3.org/2000/svg\" height=\"24px\"viewBox=\"0 0 24 24\"\n",
              "     width=\"24px\">\n",
              "    <g>\n",
              "        <path d=\"M19 3H5c-1.1 0-2 .9-2 2v14c0 1.1.9 2 2 2h14c1.1 0 2-.9 2-2V5c0-1.1-.9-2-2-2zM9 17H7v-7h2v7zm4 0h-2V7h2v10zm4 0h-2v-4h2v4z\"/>\n",
              "    </g>\n",
              "</svg>\n",
              "  </button>\n",
              "\n",
              "<style>\n",
              "  .colab-df-quickchart {\n",
              "      --bg-color: #E8F0FE;\n",
              "      --fill-color: #1967D2;\n",
              "      --hover-bg-color: #E2EBFA;\n",
              "      --hover-fill-color: #174EA6;\n",
              "      --disabled-fill-color: #AAA;\n",
              "      --disabled-bg-color: #DDD;\n",
              "  }\n",
              "\n",
              "  [theme=dark] .colab-df-quickchart {\n",
              "      --bg-color: #3B4455;\n",
              "      --fill-color: #D2E3FC;\n",
              "      --hover-bg-color: #434B5C;\n",
              "      --hover-fill-color: #FFFFFF;\n",
              "      --disabled-bg-color: #3B4455;\n",
              "      --disabled-fill-color: #666;\n",
              "  }\n",
              "\n",
              "  .colab-df-quickchart {\n",
              "    background-color: var(--bg-color);\n",
              "    border: none;\n",
              "    border-radius: 50%;\n",
              "    cursor: pointer;\n",
              "    display: none;\n",
              "    fill: var(--fill-color);\n",
              "    height: 32px;\n",
              "    padding: 0;\n",
              "    width: 32px;\n",
              "  }\n",
              "\n",
              "  .colab-df-quickchart:hover {\n",
              "    background-color: var(--hover-bg-color);\n",
              "    box-shadow: 0 1px 2px rgba(60, 64, 67, 0.3), 0 1px 3px 1px rgba(60, 64, 67, 0.15);\n",
              "    fill: var(--button-hover-fill-color);\n",
              "  }\n",
              "\n",
              "  .colab-df-quickchart-complete:disabled,\n",
              "  .colab-df-quickchart-complete:disabled:hover {\n",
              "    background-color: var(--disabled-bg-color);\n",
              "    fill: var(--disabled-fill-color);\n",
              "    box-shadow: none;\n",
              "  }\n",
              "\n",
              "  .colab-df-spinner {\n",
              "    border: 2px solid var(--fill-color);\n",
              "    border-color: transparent;\n",
              "    border-bottom-color: var(--fill-color);\n",
              "    animation:\n",
              "      spin 1s steps(1) infinite;\n",
              "  }\n",
              "\n",
              "  @keyframes spin {\n",
              "    0% {\n",
              "      border-color: transparent;\n",
              "      border-bottom-color: var(--fill-color);\n",
              "      border-left-color: var(--fill-color);\n",
              "    }\n",
              "    20% {\n",
              "      border-color: transparent;\n",
              "      border-left-color: var(--fill-color);\n",
              "      border-top-color: var(--fill-color);\n",
              "    }\n",
              "    30% {\n",
              "      border-color: transparent;\n",
              "      border-left-color: var(--fill-color);\n",
              "      border-top-color: var(--fill-color);\n",
              "      border-right-color: var(--fill-color);\n",
              "    }\n",
              "    40% {\n",
              "      border-color: transparent;\n",
              "      border-right-color: var(--fill-color);\n",
              "      border-top-color: var(--fill-color);\n",
              "    }\n",
              "    60% {\n",
              "      border-color: transparent;\n",
              "      border-right-color: var(--fill-color);\n",
              "    }\n",
              "    80% {\n",
              "      border-color: transparent;\n",
              "      border-right-color: var(--fill-color);\n",
              "      border-bottom-color: var(--fill-color);\n",
              "    }\n",
              "    90% {\n",
              "      border-color: transparent;\n",
              "      border-bottom-color: var(--fill-color);\n",
              "    }\n",
              "  }\n",
              "</style>\n",
              "\n",
              "  <script>\n",
              "    async function quickchart(key) {\n",
              "      const quickchartButtonEl =\n",
              "        document.querySelector('#' + key + ' button');\n",
              "      quickchartButtonEl.disabled = true;  // To prevent multiple clicks.\n",
              "      quickchartButtonEl.classList.add('colab-df-spinner');\n",
              "      try {\n",
              "        const charts = await google.colab.kernel.invokeFunction(\n",
              "            'suggestCharts', [key], {});\n",
              "      } catch (error) {\n",
              "        console.error('Error during call to suggestCharts:', error);\n",
              "      }\n",
              "      quickchartButtonEl.classList.remove('colab-df-spinner');\n",
              "      quickchartButtonEl.classList.add('colab-df-quickchart-complete');\n",
              "    }\n",
              "    (() => {\n",
              "      let quickchartButtonEl =\n",
              "        document.querySelector('#df-d76c895f-9ec0-47f2-903f-f64a028b3f43 button');\n",
              "      quickchartButtonEl.style.display =\n",
              "        google.colab.kernel.accessAllowed ? 'block' : 'none';\n",
              "    })();\n",
              "  </script>\n",
              "</div>\n",
              "\n",
              "    </div>\n",
              "  </div>\n"
            ],
            "application/vnd.google.colaboratory.intrinsic+json": {
              "type": "dataframe",
              "repr_error": "0"
            }
          },
          "metadata": {},
          "execution_count": 4
        }
      ]
    },
    {
      "cell_type": "code",
      "source": [
        "df.shape"
      ],
      "metadata": {
        "colab": {
          "base_uri": "https://localhost:8080/"
        },
        "id": "GSX8QE9avqDe",
        "outputId": "b9a20402-b26b-444f-fdf5-0f949b1e28da"
      },
      "execution_count": 5,
      "outputs": [
        {
          "output_type": "execute_result",
          "data": {
            "text/plain": [
              "(694608, 19)"
            ]
          },
          "metadata": {},
          "execution_count": 5
        }
      ]
    },
    {
      "cell_type": "code",
      "execution_count": 6,
      "metadata": {
        "colab": {
          "base_uri": "https://localhost:8080/"
        },
        "id": "CketlatUqFsc",
        "outputId": "962d781b-6101-4363-a647-5c12c82adef1"
      },
      "outputs": [
        {
          "output_type": "stream",
          "name": "stdout",
          "text": [
            "<class 'pandas.core.frame.DataFrame'>\n",
            "RangeIndex: 694608 entries, 0 to 694607\n",
            "Data columns (total 19 columns):\n",
            " #   Column                Non-Null Count   Dtype  \n",
            "---  ------                --------------   -----  \n",
            " 0   id                    694608 non-null  int64  \n",
            " 1   state_id              694608 non-null  object \n",
            " 2   state_name            694608 non-null  object \n",
            " 3   district_id           694608 non-null  int64  \n",
            " 4   district_name         694608 non-null  object \n",
            " 5   market_id             694608 non-null  int64  \n",
            " 6   market_name           694608 non-null  object \n",
            " 7   census_state_id       694608 non-null  int64  \n",
            " 8   census_state_name     694608 non-null  object \n",
            " 9   census_district_id    694608 non-null  int64  \n",
            " 10  census_district_name  694608 non-null  object \n",
            " 11  commodity_id          694608 non-null  int64  \n",
            " 12  commodity_name        694608 non-null  object \n",
            " 13  variety               694608 non-null  object \n",
            " 14  grade                 7144 non-null    object \n",
            " 15  min_price             694257 non-null  float64\n",
            " 16  max_price             694595 non-null  float64\n",
            " 17  modal_price           694607 non-null  float64\n",
            " 18  date                  694607 non-null  object \n",
            "dtypes: float64(3), int64(6), object(10)\n",
            "memory usage: 100.7+ MB\n"
          ]
        }
      ],
      "source": [
        "df.info()"
      ]
    },
    {
      "cell_type": "code",
      "execution_count": 7,
      "metadata": {
        "colab": {
          "base_uri": "https://localhost:8080/",
          "height": 320
        },
        "id": "bIQSBbfUqHb7",
        "outputId": "c4bef9dd-a334-48ef-cf69-a98d6fe4c7a3"
      },
      "outputs": [
        {
          "output_type": "execute_result",
          "data": {
            "text/plain": [
              "                 id    district_id      market_id  census_state_id  \\\n",
              "count  6.946080e+05  694608.000000  694608.000000    694608.000000   \n",
              "mean   5.691393e+07      12.981225    1305.204923        26.194731   \n",
              "std    7.775414e+06       7.498571    1149.494307         2.122319   \n",
              "min    4.411019e+07       1.000000       1.000000        24.000000   \n",
              "25%    5.016424e+07       7.000000     465.000000        24.000000   \n",
              "50%    5.652132e+07      12.000000     863.000000        27.000000   \n",
              "75%    6.315707e+07      18.000000    1788.000000        28.000000   \n",
              "max    7.251615e+07      36.000000   10121.000000        29.000000   \n",
              "\n",
              "       census_district_id   commodity_id      min_price      max_price  \\\n",
              "count       694608.000000  694608.000000  694257.000000  694595.000000   \n",
              "mean           512.490429      39.306335    6166.448650    7803.964786   \n",
              "std             38.243408      42.522066    9325.178937   11336.967823   \n",
              "min            468.000000       1.000000       0.000000       0.000000   \n",
              "25%            476.000000      10.000000    1500.000000    2000.000000   \n",
              "50%            505.000000      23.000000    2375.000000    3000.000000   \n",
              "75%            541.000000      78.000000    6000.000000    7175.000000   \n",
              "max            583.000000     150.000000   80000.000000  105000.000000   \n",
              "\n",
              "         modal_price  \n",
              "count  694607.000000  \n",
              "mean     7213.163264  \n",
              "std     10654.976680  \n",
              "min         1.000000  \n",
              "25%      1815.000000  \n",
              "50%      2700.000000  \n",
              "75%      6730.000000  \n",
              "max     85500.000000  "
            ],
            "text/html": [
              "\n",
              "  <div id=\"df-a368ad44-d5e3-4916-90f3-4ba9e93e8863\" class=\"colab-df-container\">\n",
              "    <div>\n",
              "<style scoped>\n",
              "    .dataframe tbody tr th:only-of-type {\n",
              "        vertical-align: middle;\n",
              "    }\n",
              "\n",
              "    .dataframe tbody tr th {\n",
              "        vertical-align: top;\n",
              "    }\n",
              "\n",
              "    .dataframe thead th {\n",
              "        text-align: right;\n",
              "    }\n",
              "</style>\n",
              "<table border=\"1\" class=\"dataframe\">\n",
              "  <thead>\n",
              "    <tr style=\"text-align: right;\">\n",
              "      <th></th>\n",
              "      <th>id</th>\n",
              "      <th>district_id</th>\n",
              "      <th>market_id</th>\n",
              "      <th>census_state_id</th>\n",
              "      <th>census_district_id</th>\n",
              "      <th>commodity_id</th>\n",
              "      <th>min_price</th>\n",
              "      <th>max_price</th>\n",
              "      <th>modal_price</th>\n",
              "    </tr>\n",
              "  </thead>\n",
              "  <tbody>\n",
              "    <tr>\n",
              "      <th>count</th>\n",
              "      <td>6.946080e+05</td>\n",
              "      <td>694608.000000</td>\n",
              "      <td>694608.000000</td>\n",
              "      <td>694608.000000</td>\n",
              "      <td>694608.000000</td>\n",
              "      <td>694608.000000</td>\n",
              "      <td>694257.000000</td>\n",
              "      <td>694595.000000</td>\n",
              "      <td>694607.000000</td>\n",
              "    </tr>\n",
              "    <tr>\n",
              "      <th>mean</th>\n",
              "      <td>5.691393e+07</td>\n",
              "      <td>12.981225</td>\n",
              "      <td>1305.204923</td>\n",
              "      <td>26.194731</td>\n",
              "      <td>512.490429</td>\n",
              "      <td>39.306335</td>\n",
              "      <td>6166.448650</td>\n",
              "      <td>7803.964786</td>\n",
              "      <td>7213.163264</td>\n",
              "    </tr>\n",
              "    <tr>\n",
              "      <th>std</th>\n",
              "      <td>7.775414e+06</td>\n",
              "      <td>7.498571</td>\n",
              "      <td>1149.494307</td>\n",
              "      <td>2.122319</td>\n",
              "      <td>38.243408</td>\n",
              "      <td>42.522066</td>\n",
              "      <td>9325.178937</td>\n",
              "      <td>11336.967823</td>\n",
              "      <td>10654.976680</td>\n",
              "    </tr>\n",
              "    <tr>\n",
              "      <th>min</th>\n",
              "      <td>4.411019e+07</td>\n",
              "      <td>1.000000</td>\n",
              "      <td>1.000000</td>\n",
              "      <td>24.000000</td>\n",
              "      <td>468.000000</td>\n",
              "      <td>1.000000</td>\n",
              "      <td>0.000000</td>\n",
              "      <td>0.000000</td>\n",
              "      <td>1.000000</td>\n",
              "    </tr>\n",
              "    <tr>\n",
              "      <th>25%</th>\n",
              "      <td>5.016424e+07</td>\n",
              "      <td>7.000000</td>\n",
              "      <td>465.000000</td>\n",
              "      <td>24.000000</td>\n",
              "      <td>476.000000</td>\n",
              "      <td>10.000000</td>\n",
              "      <td>1500.000000</td>\n",
              "      <td>2000.000000</td>\n",
              "      <td>1815.000000</td>\n",
              "    </tr>\n",
              "    <tr>\n",
              "      <th>50%</th>\n",
              "      <td>5.652132e+07</td>\n",
              "      <td>12.000000</td>\n",
              "      <td>863.000000</td>\n",
              "      <td>27.000000</td>\n",
              "      <td>505.000000</td>\n",
              "      <td>23.000000</td>\n",
              "      <td>2375.000000</td>\n",
              "      <td>3000.000000</td>\n",
              "      <td>2700.000000</td>\n",
              "    </tr>\n",
              "    <tr>\n",
              "      <th>75%</th>\n",
              "      <td>6.315707e+07</td>\n",
              "      <td>18.000000</td>\n",
              "      <td>1788.000000</td>\n",
              "      <td>28.000000</td>\n",
              "      <td>541.000000</td>\n",
              "      <td>78.000000</td>\n",
              "      <td>6000.000000</td>\n",
              "      <td>7175.000000</td>\n",
              "      <td>6730.000000</td>\n",
              "    </tr>\n",
              "    <tr>\n",
              "      <th>max</th>\n",
              "      <td>7.251615e+07</td>\n",
              "      <td>36.000000</td>\n",
              "      <td>10121.000000</td>\n",
              "      <td>29.000000</td>\n",
              "      <td>583.000000</td>\n",
              "      <td>150.000000</td>\n",
              "      <td>80000.000000</td>\n",
              "      <td>105000.000000</td>\n",
              "      <td>85500.000000</td>\n",
              "    </tr>\n",
              "  </tbody>\n",
              "</table>\n",
              "</div>\n",
              "    <div class=\"colab-df-buttons\">\n",
              "\n",
              "  <div class=\"colab-df-container\">\n",
              "    <button class=\"colab-df-convert\" onclick=\"convertToInteractive('df-a368ad44-d5e3-4916-90f3-4ba9e93e8863')\"\n",
              "            title=\"Convert this dataframe to an interactive table.\"\n",
              "            style=\"display:none;\">\n",
              "\n",
              "  <svg xmlns=\"http://www.w3.org/2000/svg\" height=\"24px\" viewBox=\"0 -960 960 960\">\n",
              "    <path d=\"M120-120v-720h720v720H120Zm60-500h600v-160H180v160Zm220 220h160v-160H400v160Zm0 220h160v-160H400v160ZM180-400h160v-160H180v160Zm440 0h160v-160H620v160ZM180-180h160v-160H180v160Zm440 0h160v-160H620v160Z\"/>\n",
              "  </svg>\n",
              "    </button>\n",
              "\n",
              "  <style>\n",
              "    .colab-df-container {\n",
              "      display:flex;\n",
              "      gap: 12px;\n",
              "    }\n",
              "\n",
              "    .colab-df-convert {\n",
              "      background-color: #E8F0FE;\n",
              "      border: none;\n",
              "      border-radius: 50%;\n",
              "      cursor: pointer;\n",
              "      display: none;\n",
              "      fill: #1967D2;\n",
              "      height: 32px;\n",
              "      padding: 0 0 0 0;\n",
              "      width: 32px;\n",
              "    }\n",
              "\n",
              "    .colab-df-convert:hover {\n",
              "      background-color: #E2EBFA;\n",
              "      box-shadow: 0px 1px 2px rgba(60, 64, 67, 0.3), 0px 1px 3px 1px rgba(60, 64, 67, 0.15);\n",
              "      fill: #174EA6;\n",
              "    }\n",
              "\n",
              "    .colab-df-buttons div {\n",
              "      margin-bottom: 4px;\n",
              "    }\n",
              "\n",
              "    [theme=dark] .colab-df-convert {\n",
              "      background-color: #3B4455;\n",
              "      fill: #D2E3FC;\n",
              "    }\n",
              "\n",
              "    [theme=dark] .colab-df-convert:hover {\n",
              "      background-color: #434B5C;\n",
              "      box-shadow: 0px 1px 3px 1px rgba(0, 0, 0, 0.15);\n",
              "      filter: drop-shadow(0px 1px 2px rgba(0, 0, 0, 0.3));\n",
              "      fill: #FFFFFF;\n",
              "    }\n",
              "  </style>\n",
              "\n",
              "    <script>\n",
              "      const buttonEl =\n",
              "        document.querySelector('#df-a368ad44-d5e3-4916-90f3-4ba9e93e8863 button.colab-df-convert');\n",
              "      buttonEl.style.display =\n",
              "        google.colab.kernel.accessAllowed ? 'block' : 'none';\n",
              "\n",
              "      async function convertToInteractive(key) {\n",
              "        const element = document.querySelector('#df-a368ad44-d5e3-4916-90f3-4ba9e93e8863');\n",
              "        const dataTable =\n",
              "          await google.colab.kernel.invokeFunction('convertToInteractive',\n",
              "                                                    [key], {});\n",
              "        if (!dataTable) return;\n",
              "\n",
              "        const docLinkHtml = 'Like what you see? Visit the ' +\n",
              "          '<a target=\"_blank\" href=https://colab.research.google.com/notebooks/data_table.ipynb>data table notebook</a>'\n",
              "          + ' to learn more about interactive tables.';\n",
              "        element.innerHTML = '';\n",
              "        dataTable['output_type'] = 'display_data';\n",
              "        await google.colab.output.renderOutput(dataTable, element);\n",
              "        const docLink = document.createElement('div');\n",
              "        docLink.innerHTML = docLinkHtml;\n",
              "        element.appendChild(docLink);\n",
              "      }\n",
              "    </script>\n",
              "  </div>\n",
              "\n",
              "\n",
              "<div id=\"df-896bcf24-b1bb-4e40-a6cf-d5f441e5244e\">\n",
              "  <button class=\"colab-df-quickchart\" onclick=\"quickchart('df-896bcf24-b1bb-4e40-a6cf-d5f441e5244e')\"\n",
              "            title=\"Suggest charts\"\n",
              "            style=\"display:none;\">\n",
              "\n",
              "<svg xmlns=\"http://www.w3.org/2000/svg\" height=\"24px\"viewBox=\"0 0 24 24\"\n",
              "     width=\"24px\">\n",
              "    <g>\n",
              "        <path d=\"M19 3H5c-1.1 0-2 .9-2 2v14c0 1.1.9 2 2 2h14c1.1 0 2-.9 2-2V5c0-1.1-.9-2-2-2zM9 17H7v-7h2v7zm4 0h-2V7h2v10zm4 0h-2v-4h2v4z\"/>\n",
              "    </g>\n",
              "</svg>\n",
              "  </button>\n",
              "\n",
              "<style>\n",
              "  .colab-df-quickchart {\n",
              "      --bg-color: #E8F0FE;\n",
              "      --fill-color: #1967D2;\n",
              "      --hover-bg-color: #E2EBFA;\n",
              "      --hover-fill-color: #174EA6;\n",
              "      --disabled-fill-color: #AAA;\n",
              "      --disabled-bg-color: #DDD;\n",
              "  }\n",
              "\n",
              "  [theme=dark] .colab-df-quickchart {\n",
              "      --bg-color: #3B4455;\n",
              "      --fill-color: #D2E3FC;\n",
              "      --hover-bg-color: #434B5C;\n",
              "      --hover-fill-color: #FFFFFF;\n",
              "      --disabled-bg-color: #3B4455;\n",
              "      --disabled-fill-color: #666;\n",
              "  }\n",
              "\n",
              "  .colab-df-quickchart {\n",
              "    background-color: var(--bg-color);\n",
              "    border: none;\n",
              "    border-radius: 50%;\n",
              "    cursor: pointer;\n",
              "    display: none;\n",
              "    fill: var(--fill-color);\n",
              "    height: 32px;\n",
              "    padding: 0;\n",
              "    width: 32px;\n",
              "  }\n",
              "\n",
              "  .colab-df-quickchart:hover {\n",
              "    background-color: var(--hover-bg-color);\n",
              "    box-shadow: 0 1px 2px rgba(60, 64, 67, 0.3), 0 1px 3px 1px rgba(60, 64, 67, 0.15);\n",
              "    fill: var(--button-hover-fill-color);\n",
              "  }\n",
              "\n",
              "  .colab-df-quickchart-complete:disabled,\n",
              "  .colab-df-quickchart-complete:disabled:hover {\n",
              "    background-color: var(--disabled-bg-color);\n",
              "    fill: var(--disabled-fill-color);\n",
              "    box-shadow: none;\n",
              "  }\n",
              "\n",
              "  .colab-df-spinner {\n",
              "    border: 2px solid var(--fill-color);\n",
              "    border-color: transparent;\n",
              "    border-bottom-color: var(--fill-color);\n",
              "    animation:\n",
              "      spin 1s steps(1) infinite;\n",
              "  }\n",
              "\n",
              "  @keyframes spin {\n",
              "    0% {\n",
              "      border-color: transparent;\n",
              "      border-bottom-color: var(--fill-color);\n",
              "      border-left-color: var(--fill-color);\n",
              "    }\n",
              "    20% {\n",
              "      border-color: transparent;\n",
              "      border-left-color: var(--fill-color);\n",
              "      border-top-color: var(--fill-color);\n",
              "    }\n",
              "    30% {\n",
              "      border-color: transparent;\n",
              "      border-left-color: var(--fill-color);\n",
              "      border-top-color: var(--fill-color);\n",
              "      border-right-color: var(--fill-color);\n",
              "    }\n",
              "    40% {\n",
              "      border-color: transparent;\n",
              "      border-right-color: var(--fill-color);\n",
              "      border-top-color: var(--fill-color);\n",
              "    }\n",
              "    60% {\n",
              "      border-color: transparent;\n",
              "      border-right-color: var(--fill-color);\n",
              "    }\n",
              "    80% {\n",
              "      border-color: transparent;\n",
              "      border-right-color: var(--fill-color);\n",
              "      border-bottom-color: var(--fill-color);\n",
              "    }\n",
              "    90% {\n",
              "      border-color: transparent;\n",
              "      border-bottom-color: var(--fill-color);\n",
              "    }\n",
              "  }\n",
              "</style>\n",
              "\n",
              "  <script>\n",
              "    async function quickchart(key) {\n",
              "      const quickchartButtonEl =\n",
              "        document.querySelector('#' + key + ' button');\n",
              "      quickchartButtonEl.disabled = true;  // To prevent multiple clicks.\n",
              "      quickchartButtonEl.classList.add('colab-df-spinner');\n",
              "      try {\n",
              "        const charts = await google.colab.kernel.invokeFunction(\n",
              "            'suggestCharts', [key], {});\n",
              "      } catch (error) {\n",
              "        console.error('Error during call to suggestCharts:', error);\n",
              "      }\n",
              "      quickchartButtonEl.classList.remove('colab-df-spinner');\n",
              "      quickchartButtonEl.classList.add('colab-df-quickchart-complete');\n",
              "    }\n",
              "    (() => {\n",
              "      let quickchartButtonEl =\n",
              "        document.querySelector('#df-896bcf24-b1bb-4e40-a6cf-d5f441e5244e button');\n",
              "      quickchartButtonEl.style.display =\n",
              "        google.colab.kernel.accessAllowed ? 'block' : 'none';\n",
              "    })();\n",
              "  </script>\n",
              "</div>\n",
              "\n",
              "    </div>\n",
              "  </div>\n"
            ],
            "application/vnd.google.colaboratory.intrinsic+json": {
              "type": "dataframe",
              "summary": "{\n  \"name\": \"df\",\n  \"rows\": 8,\n  \"fields\": [\n    {\n      \"column\": \"id\",\n      \"properties\": {\n        \"dtype\": \"number\",\n        \"std\": 25992587.468845792,\n        \"min\": 694608.0,\n        \"max\": 72516152.0,\n        \"num_unique_values\": 8,\n        \"samples\": [\n          56913930.27082614,\n          56521323.5,\n          694608.0\n        ],\n        \"semantic_type\": \"\",\n        \"description\": \"\"\n      }\n    },\n    {\n      \"column\": \"district_id\",\n      \"properties\": {\n        \"dtype\": \"number\",\n        \"std\": 245576.24180496973,\n        \"min\": 1.0,\n        \"max\": 694608.0,\n        \"num_unique_values\": 8,\n        \"samples\": [\n          12.98122538179808,\n          12.0,\n          694608.0\n        ],\n        \"semantic_type\": \"\",\n        \"description\": \"\"\n      }\n    },\n    {\n      \"column\": \"market_id\",\n      \"properties\": {\n        \"dtype\": \"number\",\n        \"std\": 244810.1321797873,\n        \"min\": 1.0,\n        \"max\": 694608.0,\n        \"num_unique_values\": 8,\n        \"samples\": [\n          1305.2049227765876,\n          863.0,\n          694608.0\n        ],\n        \"semantic_type\": \"\",\n        \"description\": \"\"\n      }\n    },\n    {\n      \"column\": \"census_state_id\",\n      \"properties\": {\n        \"dtype\": \"number\",\n        \"std\": 245572.9164520834,\n        \"min\": 2.12231935201086,\n        \"max\": 694608.0,\n        \"num_unique_values\": 7,\n        \"samples\": [\n          694608.0,\n          26.1947314168567,\n          28.0\n        ],\n        \"semantic_type\": \"\",\n        \"description\": \"\"\n      }\n    },\n    {\n      \"column\": \"census_district_id\",\n      \"properties\": {\n        \"dtype\": \"number\",\n        \"std\": 245423.3003310311,\n        \"min\": 38.24340770312458,\n        \"max\": 694608.0,\n        \"num_unique_values\": 8,\n        \"samples\": [\n          512.4904291341303,\n          505.0,\n          694608.0\n        ],\n        \"semantic_type\": \"\",\n        \"description\": \"\"\n      }\n    },\n    {\n      \"column\": \"commodity_id\",\n      \"properties\": {\n        \"dtype\": \"number\",\n        \"std\": 245563.65213710064,\n        \"min\": 1.0,\n        \"max\": 694608.0,\n        \"num_unique_values\": 8,\n        \"samples\": [\n          39.30633537189321,\n          23.0,\n          694608.0\n        ],\n        \"semantic_type\": \"\",\n        \"description\": \"\"\n      }\n    },\n    {\n      \"column\": \"min_price\",\n      \"properties\": {\n        \"dtype\": \"number\",\n        \"std\": 241612.71061076008,\n        \"min\": 0.0,\n        \"max\": 694257.0,\n        \"num_unique_values\": 8,\n        \"samples\": [\n          6166.448650355705,\n          2375.0,\n          694257.0\n        ],\n        \"semantic_type\": \"\",\n        \"description\": \"\"\n      }\n    },\n    {\n      \"column\": \"max_price\",\n      \"properties\": {\n        \"dtype\": \"number\",\n        \"std\": 241258.45688054463,\n        \"min\": 0.0,\n        \"max\": 694595.0,\n        \"num_unique_values\": 8,\n        \"samples\": [\n          7803.96478629993,\n          3000.0,\n          694595.0\n        ],\n        \"semantic_type\": \"\",\n        \"description\": \"\"\n      }\n    },\n    {\n      \"column\": \"modal_price\",\n      \"properties\": {\n        \"dtype\": \"number\",\n        \"std\": 241470.4102430896,\n        \"min\": 1.0,\n        \"max\": 694607.0,\n        \"num_unique_values\": 8,\n        \"samples\": [\n          7213.163264407068,\n          2700.0,\n          694607.0\n        ],\n        \"semantic_type\": \"\",\n        \"description\": \"\"\n      }\n    }\n  ]\n}"
            }
          },
          "metadata": {},
          "execution_count": 7
        }
      ],
      "source": [
        "df.describe()"
      ]
    },
    {
      "cell_type": "code",
      "execution_count": 8,
      "metadata": {
        "colab": {
          "base_uri": "https://localhost:8080/"
        },
        "id": "0nY65weUqbDv",
        "outputId": "cdf1b0a5-dfb6-4696-a4c7-405a4c8773e4"
      },
      "outputs": [
        {
          "output_type": "execute_result",
          "data": {
            "text/plain": [
              "13197552"
            ]
          },
          "metadata": {},
          "execution_count": 8
        }
      ],
      "source": [
        "df.size"
      ]
    },
    {
      "cell_type": "code",
      "execution_count": 9,
      "metadata": {
        "colab": {
          "base_uri": "https://localhost:8080/"
        },
        "id": "eW_igoQGqJlf",
        "outputId": "9225875b-f209-47e6-bf75-08fd34269601"
      },
      "outputs": [
        {
          "output_type": "stream",
          "name": "stdout",
          "text": [
            "Missing Values Count:\n",
            " id                           0\n",
            "state_id                     0\n",
            "state_name                   0\n",
            "district_id                  0\n",
            "district_name                0\n",
            "market_id                    0\n",
            "market_name                  0\n",
            "census_state_id              0\n",
            "census_state_name            0\n",
            "census_district_id           0\n",
            "census_district_name         0\n",
            "commodity_id                 0\n",
            "commodity_name               0\n",
            "variety                      0\n",
            "grade                   687464\n",
            "min_price                  351\n",
            "max_price                   13\n",
            "modal_price                  1\n",
            "date                         1\n",
            "dtype: int64\n",
            "\n",
            "Missing Values Percentage:\n",
            " id                       0.000000\n",
            "state_id                 0.000000\n",
            "state_name               0.000000\n",
            "district_id              0.000000\n",
            "district_name            0.000000\n",
            "market_id                0.000000\n",
            "market_name              0.000000\n",
            "census_state_id          0.000000\n",
            "census_state_name        0.000000\n",
            "census_district_id       0.000000\n",
            "census_district_name     0.000000\n",
            "commodity_id             0.000000\n",
            "commodity_name           0.000000\n",
            "variety                  0.000000\n",
            "grade                   98.971506\n",
            "min_price                0.050532\n",
            "max_price                0.001872\n",
            "modal_price              0.000144\n",
            "date                     0.000144\n",
            "dtype: float64\n"
          ]
        }
      ],
      "source": [
        "print(\"Missing Values Count:\\n\", df.isnull().sum())\n",
        "print(\"\\nMissing Values Percentage:\\n\", (df.isnull().sum() / len(df)) * 100)\n"
      ]
    },
    {
      "cell_type": "code",
      "execution_count": 10,
      "metadata": {
        "colab": {
          "base_uri": "https://localhost:8080/"
        },
        "id": "yPdnZMIZySbC",
        "outputId": "c5a58b62-2498-42bd-b49f-8b49ee4da938"
      },
      "outputs": [
        {
          "output_type": "stream",
          "name": "stdout",
          "text": [
            "Index(['id', 'state_id', 'state_name', 'district_id', 'district_name',\n",
            "       'market_id', 'market_name', 'census_state_id', 'census_state_name',\n",
            "       'census_district_id', 'census_district_name', 'commodity_id',\n",
            "       'commodity_name', 'variety', 'grade', 'min_price', 'max_price',\n",
            "       'modal_price', 'date'],\n",
            "      dtype='object')\n"
          ]
        }
      ],
      "source": [
        "print(df.columns)\n"
      ]
    },
    {
      "cell_type": "code",
      "execution_count": 11,
      "metadata": {
        "colab": {
          "base_uri": "https://localhost:8080/"
        },
        "id": "Phi_X3KcqV70",
        "outputId": "10dc0c14-8cd1-4071-b271-e0c206d0fedc"
      },
      "outputs": [
        {
          "output_type": "stream",
          "name": "stdout",
          "text": [
            "Grade column dropped successfully.\n",
            "Missing values handled successfully!\n"
          ]
        }
      ],
      "source": [
        "if 'grade' in df.columns:\n",
        "  df.drop(columns=['grade'],inplace=True)\n",
        "  print(\"Grade column dropped successfully.\")\n",
        "else:\n",
        "  print(\"Grade column not found in the DataFrame.\")\n",
        "\n",
        "df['min_price'].fillna(df['min_price'].median())\n",
        "df['max_price'].fillna(df['max_price'].median())\n",
        "\n",
        "print(\"Missing values handled successfully!\")"
      ]
    },
    {
      "cell_type": "code",
      "execution_count": 12,
      "metadata": {
        "colab": {
          "base_uri": "https://localhost:8080/"
        },
        "id": "GGDMMih7qoxn",
        "outputId": "f206d589-a069-40f2-be60-a548f775f3e8"
      },
      "outputs": [
        {
          "output_type": "stream",
          "name": "stdout",
          "text": [
            "Total Duplicate Rows: 0\n"
          ]
        }
      ],
      "source": [
        "duplicate_count = df.duplicated().sum()\n",
        "print(f\"Total Duplicate Rows: {duplicate_count}\")"
      ]
    },
    {
      "cell_type": "code",
      "execution_count": 13,
      "metadata": {
        "id": "ee7zTqlc0FE5",
        "colab": {
          "base_uri": "https://localhost:8080/",
          "height": 408
        },
        "outputId": "0285505b-a7e6-403a-8536-df23cfe47335"
      },
      "outputs": [
        {
          "output_type": "display_data",
          "data": {
            "text/plain": [
              "<Figure size 1200x500 with 1 Axes>"
            ],
            "image/png": "[encoded data removed]"
          },
          "metadata": {}
        }
      ],
      "source": [
        "plt.figure(figsize=(12, 5))\n",
        "sns.boxplot(data=df[['min_price', 'max_price', 'modal_price']])\n",
        "plt.title('Boxplot of Prices (Detecting Outliers)')\n",
        "plt.show()"
      ]
    },
    {
      "cell_type": "code",
      "execution_count": 14,
      "metadata": {
        "colab": {
          "base_uri": "https://localhost:8080/"
        },
        "id": "69jItiMC0UlB",
        "outputId": "c7f48c2e-a55e-411e-9a21-1c7692c414d4"
      },
      "outputs": [
        {
          "output_type": "stream",
          "name": "stdout",
          "text": [
            "✅ Stricter Outliers Removed Successfully!\n"
          ]
        }
      ],
      "source": [
        "def remove_outliers_iqr(df, column, threshold=1.2):\n",
        "    Q1 = df[column].quantile(0.25)\n",
        "    Q3 = df[column].quantile(0.75)\n",
        "    IQR = Q3 - Q1\n",
        "    lower_bound = Q1 - threshold * IQR\n",
        "    upper_bound = Q3 + threshold * IQR\n",
        "    df_cleaned = df[(df[column] >= lower_bound) & (df[column] <= upper_bound)]\n",
        "    return df_cleaned\n",
        "\n",
        "# Apply stricter filtering\n",
        "df = remove_outliers_iqr(df, 'min_price')\n",
        "df = remove_outliers_iqr(df, 'max_price')\n",
        "df = remove_outliers_iqr(df, 'modal_price')\n",
        "\n",
        "print(\"✅ Stricter Outliers Removed Successfully!\")\n",
        "\n"
      ]
    },
    {
      "cell_type": "code",
      "execution_count": 15,
      "metadata": {
        "colab": {
          "base_uri": "https://localhost:8080/",
          "height": 412
        },
        "id": "OR_rxv_c0nao",
        "outputId": "b0bbb170-2e91-416e-ec9c-08b30ed77be5"
      },
      "outputs": [
        {
          "output_type": "display_data",
          "data": {
            "text/plain": [
              "<Figure size 1200x500 with 1 Axes>"
            ],
            "image/png": "[encoded data removed]"
          },
          "metadata": {}
        }
      ],
      "source": [
        "plt.figure(figsize=(12, 5))\n",
        "sns.boxplot(data=df[['min_price', 'max_price', 'modal_price']])\n",
        "plt.title('Boxplot After Outlier Removal')\n",
        "plt.show()\n"
      ]
    },
    {
      "cell_type": "code",
      "source": [
        "\n",
        "plt.figure(figsize=(12, 5))\n",
        "sns.histplot(df['modal_price'], kde=True, bins=30, color=\"blue\")\n",
        "plt.title(\"Modal Price Distribution\")\n",
        "plt.xlabel(\"Price\")\n",
        "plt.ylabel(\"Frequency\")\n",
        "plt.show()\n"
      ],
      "metadata": {
        "colab": {
          "base_uri": "https://localhost:8080/",
          "height": 420
        },
        "id": "VbblCVJLy6lM",
        "outputId": "4b062b8a-d8c2-4e6d-cedd-96b4ce2a2c4d"
      },
      "execution_count": 16,
      "outputs": [
        {
          "output_type": "display_data",
          "data": {
            "text/plain": [
              "<Figure size 1200x500 with 1 Axes>"
            ],
            "image/png": "[encoded data removed]"
          },
          "metadata": {}
        }
      ]
    },
    {
      "cell_type": "code",
      "source": [
        "print(df.columns)"
      ],
      "metadata": {
        "colab": {
          "base_uri": "https://localhost:8080/"
        },
        "id": "CxxAV-sI146_",
        "outputId": "b18a5fd0-ae32-4428-a013-600c5c9cac26"
      },
      "execution_count": 17,
      "outputs": [
        {
          "output_type": "stream",
          "name": "stdout",
          "text": [
            "Index(['id', 'state_id', 'state_name', 'district_id', 'district_name',\n",
            "       'market_id', 'market_name', 'census_state_id', 'census_state_name',\n",
            "       'census_district_id', 'census_district_name', 'commodity_id',\n",
            "       'commodity_name', 'variety', 'min_price', 'max_price', 'modal_price',\n",
            "       'date'],\n",
            "      dtype='object')\n"
          ]
        }
      ]
    },
    {
      "cell_type": "code",
      "source": [
        "# 🔹 Market-wise Price Trends (Top 20 Markets)\n",
        "plt.figure(figsize=(14, 6))\n",
        "top_markets = df['market_name'].value_counts().index[:20]\n",
        "df_filtered = df[df['market_name'].isin(top_markets)]\n",
        "sns.boxplot(x=\"market_name\", y=\"modal_price\", data=df_filtered, showfliers=False)\n",
        "plt.xticks(rotation=75, ha='right',fontsize=10)\n",
        "plt.grid(axis='y', linestyle='--', alpha=0.7)\n",
        "\n",
        "plt.title(\"Market-wise Price Distribution (Top 20 Markets)\")\n",
        "plt.show()\n"
      ],
      "metadata": {
        "colab": {
          "base_uri": "https://localhost:8080/",
          "height": 532
        },
        "id": "uYTsb8m03vBv",
        "outputId": "8e92d30f-140d-4613-a458-56fd613dfedc"
      },
      "execution_count": 18,
      "outputs": [
        {
          "output_type": "display_data",
          "data": {
            "text/plain": [
              "<Figure size 1400x600 with 1 Axes>"
            ],
            "image/png": "[encoded data removed]"
          },
          "metadata": {}
        }
      ]
    },
    {
      "cell_type": "code",
      "source": [
        "# 🔹 State-wise Median Modal Price Visualization\n",
        "plt.figure(figsize=(14, 6))\n",
        "df_grouped = df.groupby(\"state_name\")[\"modal_price\"].median().reset_index()\n",
        "sns.barplot(x=\"state_name\", y=\"modal_price\", data=df_grouped)\n",
        "plt.xticks(rotation=90)\n",
        "plt.title(\"State-wise Median Modal Price\")\n",
        "plt.show()\n"
      ],
      "metadata": {
        "colab": {
          "base_uri": "https://localhost:8080/",
          "height": 500
        },
        "id": "XAHY8tNF7ntv",
        "outputId": "f7efe2d9-1041-4579-c62c-3fd8b1273bdc"
      },
      "execution_count": 19,
      "outputs": [
        {
          "output_type": "display_data",
          "data": {
            "text/plain": [
              "<Figure size 1400x600 with 1 Axes>"
            ],
            "image/png": "[encoded data removed]"
          },
          "metadata": {}
        }
      ]
    },
    {
      "cell_type": "code",
      "execution_count": 20,
      "metadata": {
        "colab": {
          "base_uri": "https://localhost:8080/"
        },
        "id": "9fud2zN10qME",
        "outputId": "aeaab2b7-3999-4236-8275-0e355dd7e6ab"
      },
      "outputs": [
        {
          "output_type": "stream",
          "name": "stdout",
          "text": [
            "        date  year  month  day\n",
            "0 2019-01-01  2019      1    1\n",
            "1 2019-01-01  2019      1    1\n",
            "2 2019-01-01  2019      1    1\n",
            "3 2019-01-01  2019      1    1\n",
            "4 2019-01-01  2019      1    1\n"
          ]
        }
      ],
      "source": [
        "df['date'] = pd.to_datetime(df['date'])  # Date ko datetime format me convert karna\n",
        "df['year'] = df['date'].dt.year\n",
        "df['month'] = df['date'].dt.month\n",
        "df['day'] = df['date'].dt.day\n",
        "\n",
        "print(df[['date', 'year', 'month', 'day']].head())  # Check karo output sahi aa raha hai ya nahi\n"
      ]
    },
    {
      "cell_type": "code",
      "source": [
        "from sklearn.preprocessing import LabelEncoder\n",
        "le = LabelEncoder()\n",
        "df['commodity_encoded'] = le.fit_transform(df['commodity_name'])\n",
        "print(df[['commodity_name', 'commodity_encoded']].head(10))"
      ],
      "metadata": {
        "colab": {
          "base_uri": "https://localhost:8080/"
        },
        "id": "ZtwA-ncuAXsp",
        "outputId": "7e83c80d-80a0-49ab-d9e6-db8e4920a310"
      },
      "execution_count": 21,
      "outputs": [
        {
          "output_type": "stream",
          "name": "stdout",
          "text": [
            "  commodity_name  commodity_encoded\n",
            "0           Rice                 11\n",
            "1           Rice                 11\n",
            "2   Green Chilli                  6\n",
            "3   Green Chilli                  6\n",
            "4   Green Chilli                  6\n",
            "5   Green Chilli                  6\n",
            "6   Green Chilli                  6\n",
            "7           Rice                 11\n",
            "8           Rice                 11\n",
            "9      Groundnut                  7\n"
          ]
        }
      ]
    },
    {
      "cell_type": "code",
      "execution_count": 22,
      "metadata": {
        "id": "yGnsPSXa2RmH"
      },
      "outputs": [],
      "source": [
        "#features\n",
        "features = ['year','month','day','commodity_encoded']\n",
        "target = ['modal_price']\n"
      ]
    },
    {
      "cell_type": "code",
      "execution_count": 23,
      "metadata": {
        "colab": {
          "base_uri": "https://localhost:8080/"
        },
        "id": "451bGf4E2bHf",
        "outputId": "0469925d-d810-477a-f83c-81e5e38e6c04"
      },
      "outputs": [
        {
          "output_type": "stream",
          "name": "stdout",
          "text": [
            "   year  month  day commodity_name  min_price  max_price  modal_price\n",
            "0  2019      1    1           Rice     3100.0     3300.0       3150.0\n",
            "1  2019      1    1           Rice     4200.0     4250.0       4200.0\n",
            "2  2019      1    1   Green Chilli     1500.0     2500.0       2000.0\n",
            "3  2019      1    1   Green Chilli     1200.0     2500.0       1800.0\n",
            "4  2019      1    1   Green Chilli      500.0     2500.0       2000.0\n"
          ]
        }
      ],
      "source": [
        "# Model ke liye relevant columns choose karna\n",
        "final_df = df[['year', 'month', 'day', 'commodity_name', 'min_price', 'max_price', 'modal_price']]\n",
        "\n",
        "print(final_df.head())\n"
      ]
    },
    {
      "cell_type": "code",
      "source": [
        "from sklearn.preprocessing import LabelEncoder\n",
        "\n",
        "# Label Encoding\n",
        "le = LabelEncoder()\n",
        "df['commodity_encoded'] = le.fit_transform(df['commodity_name'])\n",
        "\n",
        "# Encode hone ke baad check karein\n",
        "print(df[['commodity_name', 'commodity_encoded']].head())\n"
      ],
      "metadata": {
        "colab": {
          "base_uri": "https://localhost:8080/"
        },
        "id": "wxpSin1OCX5r",
        "outputId": "43011f40-7194-4e68-8a0d-7ac8584a0619"
      },
      "execution_count": 24,
      "outputs": [
        {
          "output_type": "stream",
          "name": "stdout",
          "text": [
            "  commodity_name  commodity_encoded\n",
            "0           Rice                 11\n",
            "1           Rice                 11\n",
            "2   Green Chilli                  6\n",
            "3   Green Chilli                  6\n",
            "4   Green Chilli                  6\n"
          ]
        }
      ]
    },
    {
      "cell_type": "code",
      "source": [
        "final_df = df[['year', 'month', 'day', 'commodity_encoded', 'min_price', 'max_price', 'modal_price']]\n",
        "print(final_df.head())"
      ],
      "metadata": {
        "colab": {
          "base_uri": "https://localhost:8080/"
        },
        "id": "0j--1jFqDL1i",
        "outputId": "001d2937-f264-4401-d1de-19d2e1acbb74"
      },
      "execution_count": 25,
      "outputs": [
        {
          "output_type": "stream",
          "name": "stdout",
          "text": [
            "   year  month  day  commodity_encoded  min_price  max_price  modal_price\n",
            "0  2019      1    1                 11     3100.0     3300.0       3150.0\n",
            "1  2019      1    1                 11     4200.0     4250.0       4200.0\n",
            "2  2019      1    1                  6     1500.0     2500.0       2000.0\n",
            "3  2019      1    1                  6     1200.0     2500.0       1800.0\n",
            "4  2019      1    1                  6      500.0     2500.0       2000.0\n"
          ]
        }
      ]
    },
    {
      "cell_type": "code",
      "execution_count": 38,
      "metadata": {
        "id": "iEcSCZrH2kLw"
      },
      "outputs": [],
      "source": [
        "X = final_df.drop(columns=['modal_price'])  # Input Features\n",
        "y = final_df['modal_price']"
      ]
    },
    {
      "cell_type": "code",
      "execution_count": 49,
      "metadata": {
        "colab": {
          "base_uri": "https://localhost:8080/",
          "height": 360
        },
        "id": "JsQtpOxR2uVM",
        "outputId": "b2516c43-22d1-48df-ce6a-a37a900b7a61"
      },
      "outputs": [
        {
          "output_type": "stream",
          "name": "stdout",
          "text": [
            "Sampled Dataset Shape: (500000, 22)\n"
          ]
        },
        {
          "output_type": "execute_result",
          "data": {
            "text/plain": [
              "         id state_id      state_name  district_id district_name  market_id  \\\n",
              "0  55116094       GJ         Gujarat            3    Banaskanth       1143   \n",
              "1  61961439       GJ         Gujarat           15        Amreli       1793   \n",
              "2  46085708       MH     Maharashtra           19    Aurangabad        581   \n",
              "3  60130216       AP  Andhra Pradesh           17       Kurnool        863   \n",
              "4  58790144       MH     Maharashtra           11        Nagpur       2117   \n",
              "\n",
              "   market_name  census_state_id census_state_name  census_district_id  ...  \\\n",
              "0     Palanpur               24           GUJARAT                 469  ...   \n",
              "1  Savarkundla               24           GUJARAT                 480  ...   \n",
              "2   Aurangabad               27       MAHARASHTRA                 515  ...   \n",
              "3        Adoni               28    ANDHRA PRADESH                 552  ...   \n",
              "4       Ramtek               27       MAHARASHTRA                 505  ...   \n",
              "\n",
              "              commodity_name         variety min_price max_price  modal_price  \\\n",
              "0                  Groundnut  Groundnut seed    5000.0    6840.0       5920.0   \n",
              "1  Bajra(Pearl Millet/Cumbu)           Deshi    2250.0    2640.0       2445.0   \n",
              "2                      Onion           Other     400.0    1450.0        925.0   \n",
              "3                  Groundnut     Balli/Habbu    4291.0    7843.0       5499.0   \n",
              "4                      Onion           Other    2000.0    2400.0       2200.0   \n",
              "\n",
              "        date  year month  day  commodity_encoded  \n",
              "0 2021-10-21  2021    10   21                  7  \n",
              "1 2023-05-01  2023     5    1                  1  \n",
              "2 2019-06-08  2019     6    8                  9  \n",
              "3 2022-12-05  2022    12    5                  7  \n",
              "4 2022-08-14  2022     8   14                  9  \n",
              "\n",
              "[5 rows x 22 columns]"
            ],
            "text/html": [
              "\n",
              "  <div id=\"df-9bc5980f-a96c-42ce-9602-815b01b6aa0c\" class=\"colab-df-container\">\n",
              "    <div>\n",
              "<style scoped>\n",
              "    .dataframe tbody tr th:only-of-type {\n",
              "        vertical-align: middle;\n",
              "    }\n",
              "\n",
              "    .dataframe tbody tr th {\n",
              "        vertical-align: top;\n",
              "    }\n",
              "\n",
              "    .dataframe thead th {\n",
              "        text-align: right;\n",
              "    }\n",
              "</style>\n",
              "<table border=\"1\" class=\"dataframe\">\n",
              "  <thead>\n",
              "    <tr style=\"text-align: right;\">\n",
              "      <th></th>\n",
              "      <th>id</th>\n",
              "      <th>state_id</th>\n",
              "      <th>state_name</th>\n",
              "      <th>district_id</th>\n",
              "      <th>district_name</th>\n",
              "      <th>market_id</th>\n",
              "      <th>market_name</th>\n",
              "      <th>census_state_id</th>\n",
              "      <th>census_state_name</th>\n",
              "      <th>census_district_id</th>\n",
              "      <th>...</th>\n",
              "      <th>commodity_name</th>\n",
              "      <th>variety</th>\n",
              "      <th>min_price</th>\n",
              "      <th>max_price</th>\n",
              "      <th>modal_price</th>\n",
              "      <th>date</th>\n",
              "      <th>year</th>\n",
              "      <th>month</th>\n",
              "      <th>day</th>\n",
              "      <th>commodity_encoded</th>\n",
              "    </tr>\n",
              "  </thead>\n",
              "  <tbody>\n",
              "    <tr>\n",
              "      <th>0</th>\n",
              "      <td>55116094</td>\n",
              "      <td>GJ</td>\n",
              "      <td>Gujarat</td>\n",
              "      <td>3</td>\n",
              "      <td>Banaskanth</td>\n",
              "      <td>1143</td>\n",
              "      <td>Palanpur</td>\n",
              "      <td>24</td>\n",
              "      <td>GUJARAT</td>\n",
              "      <td>469</td>\n",
              "      <td>...</td>\n",
              "      <td>Groundnut</td>\n",
              "      <td>Groundnut seed</td>\n",
              "      <td>5000.0</td>\n",
              "      <td>6840.0</td>\n",
              "      <td>5920.0</td>\n",
              "      <td>2021-10-21</td>\n",
              "      <td>2021</td>\n",
              "      <td>10</td>\n",
              "      <td>21</td>\n",
              "      <td>7</td>\n",
              "    </tr>\n",
              "    <tr>\n",
              "      <th>1</th>\n",
              "      <td>61961439</td>\n",
              "      <td>GJ</td>\n",
              "      <td>Gujarat</td>\n",
              "      <td>15</td>\n",
              "      <td>Amreli</td>\n",
              "      <td>1793</td>\n",
              "      <td>Savarkundla</td>\n",
              "      <td>24</td>\n",
              "      <td>GUJARAT</td>\n",
              "      <td>480</td>\n",
              "      <td>...</td>\n",
              "      <td>Bajra(Pearl Millet/Cumbu)</td>\n",
              "      <td>Deshi</td>\n",
              "      <td>2250.0</td>\n",
              "      <td>2640.0</td>\n",
              "      <td>2445.0</td>\n",
              "      <td>2023-05-01</td>\n",
              "      <td>2023</td>\n",
              "      <td>5</td>\n",
              "      <td>1</td>\n",
              "      <td>1</td>\n",
              "    </tr>\n",
              "    <tr>\n",
              "      <th>2</th>\n",
              "      <td>46085708</td>\n",
              "      <td>MH</td>\n",
              "      <td>Maharashtra</td>\n",
              "      <td>19</td>\n",
              "      <td>Aurangabad</td>\n",
              "      <td>581</td>\n",
              "      <td>Aurangabad</td>\n",
              "      <td>27</td>\n",
              "      <td>MAHARASHTRA</td>\n",
              "      <td>515</td>\n",
              "      <td>...</td>\n",
              "      <td>Onion</td>\n",
              "      <td>Other</td>\n",
              "      <td>400.0</td>\n",
              "      <td>1450.0</td>\n",
              "      <td>925.0</td>\n",
              "      <td>2019-06-08</td>\n",
              "      <td>2019</td>\n",
              "      <td>6</td>\n",
              "      <td>8</td>\n",
              "      <td>9</td>\n",
              "    </tr>\n",
              "    <tr>\n",
              "      <th>3</th>\n",
              "      <td>60130216</td>\n",
              "      <td>AP</td>\n",
              "      <td>Andhra Pradesh</td>\n",
              "      <td>17</td>\n",
              "      <td>Kurnool</td>\n",
              "      <td>863</td>\n",
              "      <td>Adoni</td>\n",
              "      <td>28</td>\n",
              "      <td>ANDHRA PRADESH</td>\n",
              "      <td>552</td>\n",
              "      <td>...</td>\n",
              "      <td>Groundnut</td>\n",
              "      <td>Balli/Habbu</td>\n",
              "      <td>4291.0</td>\n",
              "      <td>7843.0</td>\n",
              "      <td>5499.0</td>\n",
              "      <td>2022-12-05</td>\n",
              "      <td>2022</td>\n",
              "      <td>12</td>\n",
              "      <td>5</td>\n",
              "      <td>7</td>\n",
              "    </tr>\n",
              "    <tr>\n",
              "      <th>4</th>\n",
              "      <td>58790144</td>\n",
              "      <td>MH</td>\n",
              "      <td>Maharashtra</td>\n",
              "      <td>11</td>\n",
              "      <td>Nagpur</td>\n",
              "      <td>2117</td>\n",
              "      <td>Ramtek</td>\n",
              "      <td>27</td>\n",
              "      <td>MAHARASHTRA</td>\n",
              "      <td>505</td>\n",
              "      <td>...</td>\n",
              "      <td>Onion</td>\n",
              "      <td>Other</td>\n",
              "      <td>2000.0</td>\n",
              "      <td>2400.0</td>\n",
              "      <td>2200.0</td>\n",
              "      <td>2022-08-14</td>\n",
              "      <td>2022</td>\n",
              "      <td>8</td>\n",
              "      <td>14</td>\n",
              "      <td>9</td>\n",
              "    </tr>\n",
              "  </tbody>\n",
              "</table>\n",
              "<p>5 rows × 22 columns</p>\n",
              "</div>\n",
              "    <div class=\"colab-df-buttons\">\n",
              "\n",
              "  <div class=\"colab-df-container\">\n",
              "    <button class=\"colab-df-convert\" onclick=\"convertToInteractive('df-9bc5980f-a96c-42ce-9602-815b01b6aa0c')\"\n",
              "            title=\"Convert this dataframe to an interactive table.\"\n",
              "            style=\"display:none;\">\n",
              "\n",
              "  <svg xmlns=\"http://www.w3.org/2000/svg\" height=\"24px\" viewBox=\"0 -960 960 960\">\n",
              "    <path d=\"M120-120v-720h720v720H120Zm60-500h600v-160H180v160Zm220 220h160v-160H400v160Zm0 220h160v-160H400v160ZM180-400h160v-160H180v160Zm440 0h160v-160H620v160ZM180-180h160v-160H180v160Zm440 0h160v-160H620v160Z\"/>\n",
              "  </svg>\n",
              "    </button>\n",
              "\n",
              "  <style>\n",
              "    .colab-df-container {\n",
              "      display:flex;\n",
              "      gap: 12px;\n",
              "    }\n",
              "\n",
              "    .colab-df-convert {\n",
              "      background-color: #E8F0FE;\n",
              "      border: none;\n",
              "      border-radius: 50%;\n",
              "      cursor: pointer;\n",
              "      display: none;\n",
              "      fill: #1967D2;\n",
              "      height: 32px;\n",
              "      padding: 0 0 0 0;\n",
              "      width: 32px;\n",
              "    }\n",
              "\n",
              "    .colab-df-convert:hover {\n",
              "      background-color: #E2EBFA;\n",
              "      box-shadow: 0px 1px 2px rgba(60, 64, 67, 0.3), 0px 1px 3px 1px rgba(60, 64, 67, 0.15);\n",
              "      fill: #174EA6;\n",
              "    }\n",
              "\n",
              "    .colab-df-buttons div {\n",
              "      margin-bottom: 4px;\n",
              "    }\n",
              "\n",
              "    [theme=dark] .colab-df-convert {\n",
              "      background-color: #3B4455;\n",
              "      fill: #D2E3FC;\n",
              "    }\n",
              "\n",
              "    [theme=dark] .colab-df-convert:hover {\n",
              "      background-color: #434B5C;\n",
              "      box-shadow: 0px 1px 3px 1px rgba(0, 0, 0, 0.15);\n",
              "      filter: drop-shadow(0px 1px 2px rgba(0, 0, 0, 0.3));\n",
              "      fill: #FFFFFF;\n",
              "    }\n",
              "  </style>\n",
              "\n",
              "    <script>\n",
              "      const buttonEl =\n",
              "        document.querySelector('#df-9bc5980f-a96c-42ce-9602-815b01b6aa0c button.colab-df-convert');\n",
              "      buttonEl.style.display =\n",
              "        google.colab.kernel.accessAllowed ? 'block' : 'none';\n",
              "\n",
              "      async function convertToInteractive(key) {\n",
              "        const element = document.querySelector('#df-9bc5980f-a96c-42ce-9602-815b01b6aa0c');\n",
              "        const dataTable =\n",
              "          await google.colab.kernel.invokeFunction('convertToInteractive',\n",
              "                                                    [key], {});\n",
              "        if (!dataTable) return;\n",
              "\n",
              "        const docLinkHtml = 'Like what you see? Visit the ' +\n",
              "          '<a target=\"_blank\" href=https://colab.research.google.com/notebooks/data_table.ipynb>data table notebook</a>'\n",
              "          + ' to learn more about interactive tables.';\n",
              "        element.innerHTML = '';\n",
              "        dataTable['output_type'] = 'display_data';\n",
              "        await google.colab.output.renderOutput(dataTable, element);\n",
              "        const docLink = document.createElement('div');\n",
              "        docLink.innerHTML = docLinkHtml;\n",
              "        element.appendChild(docLink);\n",
              "      }\n",
              "    </script>\n",
              "  </div>\n",
              "\n",
              "\n",
              "<div id=\"df-f7246c2f-ade2-461c-8356-4bae1e51ae32\">\n",
              "  <button class=\"colab-df-quickchart\" onclick=\"quickchart('df-f7246c2f-ade2-461c-8356-4bae1e51ae32')\"\n",
              "            title=\"Suggest charts\"\n",
              "            style=\"display:none;\">\n",
              "\n",
              "<svg xmlns=\"http://www.w3.org/2000/svg\" height=\"24px\"viewBox=\"0 0 24 24\"\n",
              "     width=\"24px\">\n",
              "    <g>\n",
              "        <path d=\"M19 3H5c-1.1 0-2 .9-2 2v14c0 1.1.9 2 2 2h14c1.1 0 2-.9 2-2V5c0-1.1-.9-2-2-2zM9 17H7v-7h2v7zm4 0h-2V7h2v10zm4 0h-2v-4h2v4z\"/>\n",
              "    </g>\n",
              "</svg>\n",
              "  </button>\n",
              "\n",
              "<style>\n",
              "  .colab-df-quickchart {\n",
              "      --bg-color: #E8F0FE;\n",
              "      --fill-color: #1967D2;\n",
              "      --hover-bg-color: #E2EBFA;\n",
              "      --hover-fill-color: #174EA6;\n",
              "      --disabled-fill-color: #AAA;\n",
              "      --disabled-bg-color: #DDD;\n",
              "  }\n",
              "\n",
              "  [theme=dark] .colab-df-quickchart {\n",
              "      --bg-color: #3B4455;\n",
              "      --fill-color: #D2E3FC;\n",
              "      --hover-bg-color: #434B5C;\n",
              "      --hover-fill-color: #FFFFFF;\n",
              "      --disabled-bg-color: #3B4455;\n",
              "      --disabled-fill-color: #666;\n",
              "  }\n",
              "\n",
              "  .colab-df-quickchart {\n",
              "    background-color: var(--bg-color);\n",
              "    border: none;\n",
              "    border-radius: 50%;\n",
              "    cursor: pointer;\n",
              "    display: none;\n",
              "    fill: var(--fill-color);\n",
              "    height: 32px;\n",
              "    padding: 0;\n",
              "    width: 32px;\n",
              "  }\n",
              "\n",
              "  .colab-df-quickchart:hover {\n",
              "    background-color: var(--hover-bg-color);\n",
              "    box-shadow: 0 1px 2px rgba(60, 64, 67, 0.3), 0 1px 3px 1px rgba(60, 64, 67, 0.15);\n",
              "    fill: var(--button-hover-fill-color);\n",
              "  }\n",
              "\n",
              "  .colab-df-quickchart-complete:disabled,\n",
              "  .colab-df-quickchart-complete:disabled:hover {\n",
              "    background-color: var(--disabled-bg-color);\n",
              "    fill: var(--disabled-fill-color);\n",
              "    box-shadow: none;\n",
              "  }\n",
              "\n",
              "  .colab-df-spinner {\n",
              "    border: 2px solid var(--fill-color);\n",
              "    border-color: transparent;\n",
              "    border-bottom-color: var(--fill-color);\n",
              "    animation:\n",
              "      spin 1s steps(1) infinite;\n",
              "  }\n",
              "\n",
              "  @keyframes spin {\n",
              "    0% {\n",
              "      border-color: transparent;\n",
              "      border-bottom-color: var(--fill-color);\n",
              "      border-left-color: var(--fill-color);\n",
              "    }\n",
              "    20% {\n",
              "      border-color: transparent;\n",
              "      border-left-color: var(--fill-color);\n",
              "      border-top-color: var(--fill-color);\n",
              "    }\n",
              "    30% {\n",
              "      border-color: transparent;\n",
              "      border-left-color: var(--fill-color);\n",
              "      border-top-color: var(--fill-color);\n",
              "      border-right-color: var(--fill-color);\n",
              "    }\n",
              "    40% {\n",
              "      border-color: transparent;\n",
              "      border-right-color: var(--fill-color);\n",
              "      border-top-color: var(--fill-color);\n",
              "    }\n",
              "    60% {\n",
              "      border-color: transparent;\n",
              "      border-right-color: var(--fill-color);\n",
              "    }\n",
              "    80% {\n",
              "      border-color: transparent;\n",
              "      border-right-color: var(--fill-color);\n",
              "      border-bottom-color: var(--fill-color);\n",
              "    }\n",
              "    90% {\n",
              "      border-color: transparent;\n",
              "      border-bottom-color: var(--fill-color);\n",
              "    }\n",
              "  }\n",
              "</style>\n",
              "\n",
              "  <script>\n",
              "    async function quickchart(key) {\n",
              "      const quickchartButtonEl =\n",
              "        document.querySelector('#' + key + ' button');\n",
              "      quickchartButtonEl.disabled = true;  // To prevent multiple clicks.\n",
              "      quickchartButtonEl.classList.add('colab-df-spinner');\n",
              "      try {\n",
              "        const charts = await google.colab.kernel.invokeFunction(\n",
              "            'suggestCharts', [key], {});\n",
              "      } catch (error) {\n",
              "        console.error('Error during call to suggestCharts:', error);\n",
              "      }\n",
              "      quickchartButtonEl.classList.remove('colab-df-spinner');\n",
              "      quickchartButtonEl.classList.add('colab-df-quickchart-complete');\n",
              "    }\n",
              "    (() => {\n",
              "      let quickchartButtonEl =\n",
              "        document.querySelector('#df-f7246c2f-ade2-461c-8356-4bae1e51ae32 button');\n",
              "      quickchartButtonEl.style.display =\n",
              "        google.colab.kernel.accessAllowed ? 'block' : 'none';\n",
              "    })();\n",
              "  </script>\n",
              "</div>\n",
              "\n",
              "    </div>\n",
              "  </div>\n"
            ],
            "application/vnd.google.colaboratory.intrinsic+json": {
              "type": "dataframe",
              "variable_name": "df_sample"
            }
          },
          "metadata": {},
          "execution_count": 49
        }
      ],
      "source": [
        "# 5 Lakh Rows ka Random Sample\n",
        "df_sample = df.sample(500000, random_state=42)\n",
        "\n",
        "df_sample.reset_index(drop=True, inplace=True)\n",
        "\n",
        "\n",
        "print(\"Sampled Dataset Shape:\", df_sample.shape)\n",
        "\n",
        "# 🔹 Sample Data Preview\n",
        "df_sample.head()\n"
      ]
    },
    {
      "cell_type": "code",
      "source": [
        "final_df = df_sample[['year', 'month', 'day', 'commodity_encoded', 'min_price', 'max_price', 'modal_price']]\n",
        "\n",
        "# ✅ Check Final Data\n",
        "print(final_df.head())\n",
        "print(\"Final Dataset Shape:\", final_df.shape)\n"
      ],
      "metadata": {
        "colab": {
          "base_uri": "https://localhost:8080/"
        },
        "id": "UC7Vq6An1o5c",
        "outputId": "39c7a68a-773f-4065-f035-582a6e819d9d"
      },
      "execution_count": 50,
      "outputs": [
        {
          "output_type": "stream",
          "name": "stdout",
          "text": [
            "   year  month  day  commodity_encoded  min_price  max_price  modal_price\n",
            "0  2021     10   21                  7     5000.0     6840.0       5920.0\n",
            "1  2023      5    1                  1     2250.0     2640.0       2445.0\n",
            "2  2019      6    8                  9      400.0     1450.0        925.0\n",
            "3  2022     12    5                  7     4291.0     7843.0       5499.0\n",
            "4  2022      8   14                  9     2000.0     2400.0       2200.0\n",
            "Final Dataset Shape: (500000, 7)\n"
          ]
        }
      ]
    },
    {
      "cell_type": "code",
      "execution_count": 51,
      "metadata": {
        "colab": {
          "base_uri": "https://localhost:8080/"
        },
        "id": "oh4wE7aW4NqN",
        "outputId": "d315d903-c47e-4946-ad37-c0ed13f55462"
      },
      "outputs": [
        {
          "output_type": "stream",
          "name": "stdout",
          "text": [
            "Features & Target Selected!\n",
            " X Shape: (577307, 4)\n",
            " y Shape: (577307,)\n"
          ]
        }
      ],
      "source": [
        "X = df[[\"year\", \"month\", \"day\", \"commodity_encoded\"]]\n",
        "y = df[\"modal_price\"]\n",
        "print(\"Features & Target Selected!\")\n",
        "print(\" X Shape:\", X.shape)\n",
        "print(\" y Shape:\", y.shape)"
      ]
    },
    {
      "cell_type": "code",
      "execution_count": 52,
      "metadata": {
        "id": "UpnaCXra5uuY",
        "colab": {
          "base_uri": "https://localhost:8080/"
        },
        "outputId": "f003eecd-7394-4bf5-af12-04add7061d5c"
      },
      "outputs": [
        {
          "output_type": "stream",
          "name": "stdout",
          "text": [
            "Training Data Shape: (461845, 4) (461845,)\n",
            "Testing Data Shape: (115462, 4) (115462,)\n"
          ]
        }
      ],
      "source": [
        "X_train, X_test, y_train, y_test = train_test_split(X, y, test_size=0.2, random_state=42)\n",
        "\n",
        "# ✅ Check Shapes\n",
        "print(\"Training Data Shape:\", X_train.shape, y_train.shape)\n",
        "print(\"Testing Data Shape:\", X_test.shape, y_test.shape)"
      ]
    },
    {
      "cell_type": "code",
      "execution_count": 53,
      "metadata": {
        "id": "VryEhKiD51Qm",
        "colab": {
          "base_uri": "https://localhost:8080/"
        },
        "outputId": "fe226856-1c42-437f-f31c-8bdc825b002d"
      },
      "outputs": [
        {
          "output_type": "stream",
          "name": "stdout",
          "text": [
            "Model Initialized Successfully!\n"
          ]
        }
      ],
      "source": [
        "model = RandomForestRegressor(n_estimators=100, random_state=42,n_jobs=-1)\n",
        "\n",
        "print(\"Model Initialized Successfully!\")"
      ]
    },
    {
      "cell_type": "code",
      "execution_count": 54,
      "metadata": {
        "id": "M8144gf557X-",
        "colab": {
          "base_uri": "https://localhost:8080/"
        },
        "outputId": "c6dbf105-2956-46b0-9870-e379f5f2c90a"
      },
      "outputs": [
        {
          "output_type": "stream",
          "name": "stdout",
          "text": [
            "Model Training Complete!\n"
          ]
        }
      ],
      "source": [
        "model.fit(X_train, y_train)\n",
        "\n",
        "print(\"Model Training Complete!\")"
      ]
    },
    {
      "cell_type": "code",
      "execution_count": 55,
      "metadata": {
        "id": "kULScRI759YU"
      },
      "outputs": [],
      "source": [
        "y_pred = model.predict(X_test)"
      ]
    },
    {
      "cell_type": "code",
      "execution_count": 56,
      "metadata": {
        "id": "xiACRVmV6Lb8",
        "colab": {
          "base_uri": "https://localhost:8080/"
        },
        "outputId": "5c6dbf18-4f9d-401a-bc8f-98ea9ea6e5b7"
      },
      "outputs": [
        {
          "output_type": "stream",
          "name": "stdout",
          "text": [
            "MAE: 350.71262781043185\n",
            "MSE: 352602.90414449805\n",
            "RMSE: 593.8037589511354\n",
            "R² Score: 0.9244490747707306\n"
          ]
        }
      ],
      "source": [
        "mae = mean_absolute_error(y_test, y_pred)\n",
        "mse = mean_squared_error(y_test, y_pred)\n",
        "rmse = np.sqrt(mse)  # Square Root lo manually\n",
        "r2 = r2_score(y_test, y_pred)\n",
        "\n",
        "print(f\"MAE: {mae}\")\n",
        "print(f\"MSE: {mse}\")\n",
        "print(f\"RMSE: {rmse}\")\n",
        "print(f\"R² Score: {r2}\")"
      ]
    },
    {
      "cell_type": "code",
      "execution_count": 57,
      "metadata": {
        "id": "UTNZShzu6OQY",
        "colab": {
          "base_uri": "https://localhost:8080/"
        },
        "outputId": "57cff614-d1dd-4f2b-b6aa-0725c1a74966"
      },
      "outputs": [
        {
          "output_type": "stream",
          "name": "stdout",
          "text": [
            "Random Forest Model Saved Successfully!\n"
          ]
        }
      ],
      "source": [
        "import joblib  #\n",
        "\n",
        "#  Random Forest Regression Model Save\n",
        "joblib.dump(model, \"FarmFlow_Price_Model.pkl\")\n",
        "\n",
        "print(\"Random Forest Model Saved Successfully!\")\n"
      ]
    },
    {
      "cell_type": "code",
      "execution_count": 58,
      "metadata": {
        "id": "zAgjsiQg7b2d",
        "colab": {
          "base_uri": "https://localhost:8080/"
        },
        "outputId": "14f67a9f-25ec-469d-cb58-26079d684958"
      },
      "outputs": [
        {
          "output_type": "stream",
          "name": "stdout",
          "text": [
            "Random Forest Model Loaded Successfully!\n"
          ]
        }
      ],
      "source": [
        "#  Random Forest Model Load\n",
        "loaded_model = joblib.load(\"FarmFlow_Price_Model.pkl\")\n",
        "\n",
        "print(\"Random Forest Model Loaded Successfully!\")\n"
      ]
    },
    {
      "cell_type": "code",
      "execution_count": 59,
      "metadata": {
        "id": "7-fZMnSH7i3y"
      },
      "outputs": [],
      "source": [
        "import pandas as pd\n",
        "import joblib"
      ]
    },
    {
      "cell_type": "code",
      "execution_count": 63,
      "metadata": {
        "id": "AKp3N5VD7rJj",
        "colab": {
          "base_uri": "https://localhost:8080/"
        },
        "outputId": "abc44763-84f9-41d7-f72f-8163898aec81"
      },
      "outputs": [
        {
          "output_type": "stream",
          "name": "stdout",
          "text": [
            "✅ Commodity Label Encoder Saved!\n"
          ]
        }
      ],
      "source": [
        "\n",
        "from sklearn.preprocessing import LabelEncoder\n",
        "\n",
        "# Assuming you used 'le' as the variable name earlier:\n",
        "# Save the label encoder using 'le'\n",
        "joblib.dump(le, \"commodity_label_encoder.pkl\")\n",
        "print(\"✅ Commodity Label Encoder Saved!\")"
      ]
    },
    {
      "cell_type": "code",
      "source": [
        "encoder = joblib.load(\"commodity_label_encoder.pkl\")\n",
        "print(\"✅ Commodity Label Encoder Loaded Successfully!\")\n"
      ],
      "metadata": {
        "colab": {
          "base_uri": "https://localhost:8080/"
        },
        "id": "qmqtZth360LD",
        "outputId": "cacf93d2-b6da-47d2-8854-9db6e7046bb6"
      },
      "execution_count": 64,
      "outputs": [
        {
          "output_type": "stream",
          "name": "stdout",
          "text": [
            "✅ Commodity Label Encoder Loaded Successfully!\n"
          ]
        }
      ]
    },
    {
      "cell_type": "code",
      "source": [
        "import pandas as pd\n",
        "\n",
        "def predict_price(year, month, day, commodity_name):\n",
        "    commodity_encoded = encoder.transform([commodity_name])[0]  # Encode commodity name\n",
        "\n",
        "    # 🔹 Input Data ko DataFrame banao with same feature names\n",
        "    input_data = pd.DataFrame([[year, month, day, commodity_encoded]],\n",
        "                              columns=[\"year\", \"month\", \"day\", \"commodity_encoded\"])\n",
        "\n",
        "    predicted_price = model.predict(input_data)[0]  # Model se prediction lo\n",
        "\n",
        "    # 🎯 Formatted Output\n",
        "    output = f\"\"\"\n",
        "    🔥 **Final Output:**\n",
        "    📅 **Date:** {year}-{month:02d}-{day:02d}\n",
        "    🌾 **Commodity:** {commodity_name}\n",
        "    💰 **Predicted Price:** ₹{predicted_price:.2f}\n",
        "    \"\"\"\n",
        "    return output\n",
        "\n",
        "# 🏆 Test Prediction\n",
        "print(predict_price(2025, 3, 15, \"Rice\"))\n",
        "\n"
      ],
      "metadata": {
        "colab": {
          "base_uri": "https://localhost:8080/"
        },
        "id": "P7UpbxYw_pDn",
        "outputId": "001fd221-2bea-4ed3-8399-b46385014c18"
      },
      "execution_count": 69,
      "outputs": [
        {
          "output_type": "stream",
          "name": "stdout",
          "text": [
            "\n",
            "    🔥 **Final Output:**\n",
            "    📅 **Date:** 2025-03-15\n",
            "    🌾 **Commodity:** Rice\n",
            "    💰 **Predicted Price:** ₹3519.11\n",
            "    \n"
          ]
        }
      ]
    },
    {
      "cell_type": "code",
      "source": [],
      "metadata": {
        "id": "HmHHk3EkAZu5"
      },
      "execution_count": null,
      "outputs": []
    }
  ],
  "metadata": {
    "colab": {
      "provenance": []
    },
    "kernelspec": {
      "display_name": "Python 3",
      "name": "python3"
    },
    "language_info": {
      "name": "python"
    }
  },
  "nbformat": 4,
  "nbformat_minor": 0
}